{
 "cells": [
  {
   "cell_type": "markdown",
   "id": "e25e4ddb",
   "metadata": {},
   "source": [
    "# EDA"
   ]
  },
  {
   "cell_type": "code",
   "execution_count": 2,
   "id": "af71a6c3",
   "metadata": {},
   "outputs": [],
   "source": [
    "#en primer instancia importamos las librerias necesarias para poder trabajar con los datos, en este caso utilizamos pandas para poder leer el archivo csv \n",
    "# y poder realizar diferentes operaciones al dataset\n",
    "import pandas as pd\n",
    "import numpy as np"
   ]
  },
  {
   "cell_type": "markdown",
   "id": "1c4da59e",
   "metadata": {},
   "source": [
    "##### • Leemos el primer archivo para realizar la respectiva limpieza\n"
   ]
  },
  {
   "cell_type": "code",
   "execution_count": 3,
   "id": "9c4e83e6",
   "metadata": {},
   "outputs": [
    {
     "name": "stderr",
     "output_type": "stream",
     "text": [
      "<>:2: SyntaxWarning: invalid escape sequence '\\D'\n",
      "<>:2: SyntaxWarning: invalid escape sequence '\\D'\n",
      "C:\\Users\\dssua\\AppData\\Local\\Temp\\ipykernel_4112\\2441676414.py:2: SyntaxWarning: invalid escape sequence '\\D'\n",
      "  EndInvFINAL12312016 = '..\\Data\\EndInvFINAL12312016.csv'\n"
     ]
    }
   ],
   "source": [
    "#ruta del archivo CSV\n",
    "EndInvFINAL12312016 = '..\\Data\\EndInvFINAL12312016.csv'\n",
    "\n",
    "# Leer el archivo CSV \n",
    "df_EndInvFINAL12312016 = pd.read_csv(EndInvFINAL12312016)\n"
   ]
  },
  {
   "cell_type": "markdown",
   "id": "655c65b6",
   "metadata": {},
   "source": [
    "##### • realizamos la respectiva limpieza\n"
   ]
  },
  {
   "cell_type": "code",
   "execution_count": 4,
   "id": "050c2bd6",
   "metadata": {},
   "outputs": [],
   "source": [
    "# Eliminamos filas con al menos un valor vacío\n",
    "df_EndInvFINAL12312016 = df_EndInvFINAL12312016.dropna()"
   ]
  },
  {
   "cell_type": "markdown",
   "id": "03674410",
   "metadata": {},
   "source": [
    "##### • transformacion de datos\n"
   ]
  },
  {
   "cell_type": "code",
   "execution_count": 5,
   "id": "500112c7",
   "metadata": {},
   "outputs": [],
   "source": [
    "#calculamos el precio total por disponibilidad y redondeamos a 2 decimales\n",
    "df_EndInvFINAL12312016[\"Precio Total\"] = df_EndInvFINAL12312016[\"onHand\"] * df_EndInvFINAL12312016[\"Price\"]\n",
    "df_EndInvFINAL12312016[\"Precio Total\"] = df_EndInvFINAL12312016[\"Precio Total\"].round(2)\n",
    "\n"
   ]
  },
  {
   "cell_type": "markdown",
   "id": "8415ff45",
   "metadata": {},
   "source": [
    "##### • convertimos el tipo de dato correcto de las diferentes columnas\n"
   ]
  },
  {
   "cell_type": "code",
   "execution_count": 6,
   "id": "16ff975c",
   "metadata": {},
   "outputs": [],
   "source": [
    "#convertimos la columna 'endDate' a tipo fecha\n",
    "df_EndInvFINAL12312016['endDate'] = pd.to_datetime(df_EndInvFINAL12312016['endDate'])\n",
    "\n",
    "#generamos un arreglo con las columnas que queremos convertir a tipo string\n",
    "columnas_strings = ['InventoryId', 'City', 'Description', 'Size']\n",
    "df_EndInvFINAL12312016[columnas_strings] = df_EndInvFINAL12312016[columnas_strings].astype('string')\n",
    "\n",
    "#generamos un arreglo con las columnas que queremos convertir a tipo entero\n",
    "columnas_enteras = ['Store', 'Brand', 'onHand', 'Price']\n",
    "df_EndInvFINAL12312016[columnas_enteras] = df_EndInvFINAL12312016[columnas_enteras].astype('int64')\n"
   ]
  },
  {
   "cell_type": "code",
   "execution_count": 7,
   "id": "cb37cb42",
   "metadata": {},
   "outputs": [
    {
     "name": "stdout",
     "output_type": "stream",
     "text": [
      "<class 'pandas.core.frame.DataFrame'>\n",
      "Index: 223205 entries, 0 to 224488\n",
      "Data columns (total 10 columns):\n",
      " #   Column        Non-Null Count   Dtype         \n",
      "---  ------        --------------   -----         \n",
      " 0   InventoryId   223205 non-null  string        \n",
      " 1   Store         223205 non-null  int64         \n",
      " 2   City          223205 non-null  string        \n",
      " 3   Brand         223205 non-null  int64         \n",
      " 4   Description   223205 non-null  string        \n",
      " 5   Size          223205 non-null  string        \n",
      " 6   onHand        223205 non-null  int64         \n",
      " 7   Price         223205 non-null  int64         \n",
      " 8   endDate       223205 non-null  datetime64[ns]\n",
      " 9   Precio Total  223205 non-null  float64       \n",
      "dtypes: datetime64[ns](1), float64(1), int64(4), string(4)\n",
      "memory usage: 18.7 MB\n"
     ]
    }
   ],
   "source": [
    "#mostramos la informacion del dataframe para verificar que los cambios se hayan realizado correctamente\n",
    "df_EndInvFINAL12312016.info()"
   ]
  },
  {
   "cell_type": "code",
   "execution_count": 8,
   "id": "6441c608",
   "metadata": {},
   "outputs": [
    {
     "name": "stderr",
     "output_type": "stream",
     "text": [
      "<>:2: SyntaxWarning: invalid escape sequence '\\D'\n",
      "<>:2: SyntaxWarning: invalid escape sequence '\\D'\n",
      "C:\\Users\\dssua\\AppData\\Local\\Temp\\ipykernel_4112\\1861268356.py:2: SyntaxWarning: invalid escape sequence '\\D'\n",
      "  InvoicePurchases12312016 = '..\\Data\\InvoicePurchases12312016.csv'\n"
     ]
    }
   ],
   "source": [
    "#ruta del segundo archivo CSV\n",
    "InvoicePurchases12312016 = '..\\Data\\InvoicePurchases12312016.csv'\n",
    "\n",
    "# leemos el archivo CSV y lo guardamos en un dataframe \n",
    "df_InvoicePurchases12312016 = pd.read_csv(InvoicePurchases12312016)"
   ]
  },
  {
   "cell_type": "code",
   "execution_count": null,
   "id": "aa7eaf4a",
   "metadata": {},
   "outputs": [],
   "source": [
    "# Reemplazar el valor 'none' por 'not approved' en la columna 'approval' para entender mejor esta categoria\n",
    "df_InvoicePurchases12312016['Approval'] = df_InvoicePurchases12312016['Approval'].fillna('not approved')"
   ]
  },
  {
   "cell_type": "code",
   "execution_count": 18,
   "id": "1c20ad5b",
   "metadata": {},
   "outputs": [],
   "source": [
    "#convertimos la columna 'endDate' a tipo fecha\n",
    "columnas_fechas = ['InvoiceDate', 'PODate', 'PayDate']\n",
    "df_InvoicePurchases12312016['InvoiceDate'] = pd.to_datetime(df_InvoicePurchases12312016['InvoiceDate'])\n",
    "df_InvoicePurchases12312016['PODate'] = pd.to_datetime(df_InvoicePurchases12312016['PODate'])\n",
    "df_InvoicePurchases12312016['PayDate'] = pd.to_datetime(df_InvoicePurchases12312016['PayDate'])\n",
    "\n",
    "\n",
    "#generamos un arreglo con las columnas que queremos convertir a tipo string\n",
    "columnas_strings = ['VendorName', 'Approval']\n",
    "df_InvoicePurchases12312016[columnas_strings] = df_InvoicePurchases12312016[columnas_strings].astype('string')\n",
    "\n",
    "#generamos un arreglo con las columnas que queremos convertir a tipo entero\n",
    "columnas_enteras = ['VendorNumber', 'PONumber', 'Quantity']\n",
    "df_InvoicePurchases12312016[columnas_enteras] = df_InvoicePurchases12312016[columnas_enteras].astype('int64')\n",
    "\n",
    "#generamos un arreglo con las columnas que queremos convertir a tipo float\n",
    "columnas_flotantes = ['Dollars', 'Freight']\n",
    "df_InvoicePurchases12312016[columnas_flotantes] = df_InvoicePurchases12312016[columnas_flotantes].astype('float')\n"
   ]
  },
  {
   "cell_type": "code",
   "execution_count": 19,
   "id": "83bd28da",
   "metadata": {},
   "outputs": [
    {
     "name": "stdout",
     "output_type": "stream",
     "text": [
      "<class 'pandas.core.frame.DataFrame'>\n",
      "RangeIndex: 5543 entries, 0 to 5542\n",
      "Data columns (total 10 columns):\n",
      " #   Column        Non-Null Count  Dtype         \n",
      "---  ------        --------------  -----         \n",
      " 0   VendorNumber  5543 non-null   int64         \n",
      " 1   VendorName    5543 non-null   string        \n",
      " 2   InvoiceDate   5543 non-null   datetime64[ns]\n",
      " 3   PONumber      5543 non-null   int64         \n",
      " 4   PODate        5543 non-null   datetime64[ns]\n",
      " 5   PayDate       5543 non-null   datetime64[ns]\n",
      " 6   Quantity      5543 non-null   int64         \n",
      " 7   Dollars       5543 non-null   float64       \n",
      " 8   Freight       5543 non-null   float64       \n",
      " 9   Approval      5543 non-null   string        \n",
      "dtypes: datetime64[ns](3), float64(2), int64(3), string(2)\n",
      "memory usage: 433.2 KB\n"
     ]
    }
   ],
   "source": [
    "#mostramos la informacion del dataframe para verificar que los cambios se hayan realizado correctamente\n",
    "df_InvoicePurchases12312016.info()"
   ]
  }
 ],
 "metadata": {
  "kernelspec": {
   "display_name": "Python 3",
   "language": "python",
   "name": "python3"
  },
  "language_info": {
   "codemirror_mode": {
    "name": "ipython",
    "version": 3
   },
   "file_extension": ".py",
   "mimetype": "text/x-python",
   "name": "python",
   "nbconvert_exporter": "python",
   "pygments_lexer": "ipython3",
   "version": "3.12.5"
  }
 },
 "nbformat": 4,
 "nbformat_minor": 5
}
