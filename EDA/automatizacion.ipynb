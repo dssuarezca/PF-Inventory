{
 "cells": [
  {
   "cell_type": "code",
   "execution_count": 1,
   "id": "7ae222d3",
   "metadata": {},
   "outputs": [
    {
     "name": "stderr",
     "output_type": "stream",
     "text": [
      "c:\\Users\\Usuario\\OneDrive\\Escritorio\\InventarioProject\\PF-Inventory\\venv_inventario\\Lib\\site-packages\\google\\cloud\\bigquery\\_pandas_helpers.py:484: FutureWarning: Loading pandas DataFrame into BigQuery will require pandas-gbq package version 0.26.1 or greater in the future. Tried to import pandas-gbq and got: No module named 'pandas_gbq'\n",
      "  warnings.warn(\n"
     ]
    },
    {
     "name": "stdout",
     "output_type": "stream",
     "text": [
      "✅ Datos cargados en tabla staging\n",
      "✅ Carga incremental completada en tabla final\n"
     ]
    }
   ],
   "source": [
    "# ==========================================\n",
    "# ETL incremental con BigQuery\n",
    "# ==========================================\n",
    "import os\n",
    "import pandas as pd\n",
    "from google.cloud import bigquery\n",
    "\n",
    "# Configuración\n",
    "PROJECT_ID = \"inventarioproject-471611\"\n",
    "DATASET = \"inventarioproject_henry\"\n",
    "TABLE_STAGING = f\"{PROJECT_ID}.{DATASET}.compras_2017_staging\"\n",
    "TABLE_FINAL = f\"{PROJECT_ID}.{DATASET}.compras_2017_clean\"\n",
    "\n",
    "\n",
    "# Cliente BigQuery\n",
    "client = bigquery.Client(project=PROJECT_ID)\n",
    "\n",
    "\n",
    "# 1. Leer CSV local (carpeta compartida en OneDrive/Drive sincronizado)\n",
    "csv_path = r\"G:\\Mi unidad\\proyecto_inventario\\raw\\compras_test.csv\"\n",
    "df = pd.read_csv(csv_path)\n",
    "\n",
    "\n",
    "#---------------------------------------------------------------------------------------------------\n",
    "\n",
    "# 2. Limpieza básica\n",
    "\n",
    "# --- 1. Pasar nombres de columnas a minúsculas y reemplazar espacios por \"_\"\n",
    "df.columns = df.columns.str.lower().str.replace(\" \", \"_\")\n",
    "\n",
    "\n",
    "# --- 2. Pasar todo el contenido de las columnas tipo string a minúsculas y reemplazar espacios por \"_\"\n",
    "for col in df.select_dtypes(include=\"object\").columns:\n",
    "    df[col] = df[col].str.lower().str.replace(\" \", \"_\")\n",
    "\n",
    "\n",
    "# --- 3. Convertir todas las columnas que contengan \"date\" en su nombre a tipo datetime\n",
    "for col in df.columns:\n",
    "    if \"date\" in col:\n",
    "        df[col] = pd.to_datetime(df[col], errors=\"coerce\")  # \"coerce\" pone NaT si hay error\n",
    "\n",
    "\n",
    "#---------------------------------------------------------------------------------------------------\n",
    "\n",
    "# 3. Subir a tabla staging\n",
    "job_config = bigquery.LoadJobConfig(\n",
    "    write_disposition=\"WRITE_TRUNCATE\",  # pisa staging cada vez\n",
    "    autodetect=True\n",
    ")\n",
    "\n",
    "job = client.load_table_from_dataframe(df, TABLE_STAGING, job_config=job_config)\n",
    "job.result()\n",
    "print(\"✅ Datos cargados en tabla staging\")\n",
    "\n",
    "#---------------------------------------------------------------------------------------------------\n",
    "\n",
    "# 4. SQL incremental para pasar solo los nuevos registros a la tabla final\n",
    "sql = f\"\"\"\n",
    "INSERT INTO `{TABLE_FINAL}`\n",
    "SELECT *\n",
    "FROM `{TABLE_STAGING}` s\n",
    "WHERE NOT EXISTS (\n",
    "    SELECT 1\n",
    "    FROM `{TABLE_FINAL}` c\n",
    "    WHERE c.inventoryid = s.inventoryid\n",
    ")\n",
    "\"\"\"\n",
    "\n",
    "query_job = client.query(sql)\n",
    "query_job.result()\n",
    "print(\"✅ Carga incremental completada en tabla final\")\n"
   ]
  }
 ],
 "metadata": {
  "kernelspec": {
   "display_name": "venv_inventario (3.13.3)",
   "language": "python",
   "name": "python3"
  },
  "language_info": {
   "codemirror_mode": {
    "name": "ipython",
    "version": 3
   },
   "file_extension": ".py",
   "mimetype": "text/x-python",
   "name": "python",
   "nbconvert_exporter": "python",
   "pygments_lexer": "ipython3",
   "version": "3.13.3"
  }
 },
 "nbformat": 4,
 "nbformat_minor": 5
}
