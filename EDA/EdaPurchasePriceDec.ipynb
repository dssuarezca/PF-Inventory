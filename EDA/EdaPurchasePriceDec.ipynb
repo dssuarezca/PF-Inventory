{
 "cells": [
  {
   "cell_type": "markdown",
   "id": "8c87c727",
   "metadata": {},
   "source": [
    "# EDA archivo 2017PurchasePriceDec"
   ]
  },
  {
   "cell_type": "code",
   "execution_count": 20,
   "id": "30477243",
   "metadata": {},
   "outputs": [],
   "source": [
    "import pandas as pd\n",
    "import numpy as np\n",
    "import matplotlib.pyplot as plt\n",
    "import seaborn as sns\n",
    "import os"
   ]
  },
  {
   "cell_type": "code",
   "execution_count": 2,
   "id": "cde51bdf",
   "metadata": {},
   "outputs": [],
   "source": [
    "#carga archivo csv\n",
    "df = pd.read_csv(r\"C:\\Users\\User\\OneDrive - Institucion Universitaria Colegio Mayor de Antioquia\\Escritorio\\Proyecto_Final_Henry\\PF-Inventory\\Data\\2017PurchasePricesDec.csv\")"
   ]
  },
  {
   "cell_type": "code",
   "execution_count": 3,
   "id": "0038e3e8",
   "metadata": {},
   "outputs": [
    {
     "name": "stdout",
     "output_type": "stream",
     "text": [
      "   Brand                  Description  Price   Size Volume  Classification  \\\n",
      "0     58  Gekkeikan Black & Gold Sake  12.99  750mL    750               1   \n",
      "1     62     Herradura Silver Tequila  36.99  750mL    750               1   \n",
      "2     63   Herradura Reposado Tequila  38.99  750mL    750               1   \n",
      "3     72         No. 3 London Dry Gin  34.99  750mL    750               1   \n",
      "4     75    Three Olives Tomato Vodka  14.99  750mL    750               1   \n",
      "\n",
      "   PurchasePrice  VendorNumber                   VendorName  \n",
      "0           9.28          8320  SHAW ROSS INT L IMP LTD      \n",
      "1          28.67          1128  BROWN-FORMAN CORP            \n",
      "2          30.46          1128  BROWN-FORMAN CORP            \n",
      "3          26.11          9165  ULTRA BEVERAGE COMPANY LLP   \n",
      "4          10.94          7245  PROXIMO SPIRITS INC.         \n"
     ]
    }
   ],
   "source": [
    "print(df.head())"
   ]
  },
  {
   "cell_type": "code",
   "execution_count": 4,
   "id": "c10792bf",
   "metadata": {},
   "outputs": [
    {
     "name": "stdout",
     "output_type": "stream",
     "text": [
      "<class 'pandas.core.frame.DataFrame'>\n",
      "RangeIndex: 12261 entries, 0 to 12260\n",
      "Data columns (total 9 columns):\n",
      " #   Column          Non-Null Count  Dtype  \n",
      "---  ------          --------------  -----  \n",
      " 0   Brand           12261 non-null  int64  \n",
      " 1   Description     12260 non-null  object \n",
      " 2   Price           12261 non-null  float64\n",
      " 3   Size            12260 non-null  object \n",
      " 4   Volume          12260 non-null  object \n",
      " 5   Classification  12261 non-null  int64  \n",
      " 6   PurchasePrice   12261 non-null  float64\n",
      " 7   VendorNumber    12261 non-null  int64  \n",
      " 8   VendorName      12261 non-null  object \n",
      "dtypes: float64(2), int64(3), object(4)\n",
      "memory usage: 862.2+ KB\n",
      "None\n"
     ]
    }
   ],
   "source": [
    "print(df.info())"
   ]
  },
  {
   "cell_type": "code",
   "execution_count": 5,
   "id": "69abfbed",
   "metadata": {},
   "outputs": [
    {
     "name": "stdout",
     "output_type": "stream",
     "text": [
      "              Brand         Price  Classification  PurchasePrice  \\\n",
      "count  12261.000000  12261.000000    12261.000000   12261.000000   \n",
      "mean   17989.067123     38.640240        1.708996      26.488220   \n",
      "std    12528.503464    206.151172        0.454244     156.182948   \n",
      "min       58.000000      0.000000        1.000000       0.000000   \n",
      "25%     5990.000000     10.990000        1.000000       6.890000   \n",
      "50%    18788.000000     15.990000        2.000000      10.650000   \n",
      "75%    25117.000000     29.990000        2.000000      20.130000   \n",
      "max    90631.000000  13999.900000        2.000000   11111.030000   \n",
      "\n",
      "        VendorNumber  \n",
      "count   12261.000000  \n",
      "mean    10814.861757  \n",
      "std     19007.682322  \n",
      "min         2.000000  \n",
      "25%      3960.000000  \n",
      "50%      7153.000000  \n",
      "75%      9552.000000  \n",
      "max    173357.000000  \n"
     ]
    }
   ],
   "source": [
    "print(df.describe()) # # Obtener estadísticas descriptivas de las variables numéricas"
   ]
  },
  {
   "cell_type": "code",
   "execution_count": 6,
   "id": "2f938e49",
   "metadata": {},
   "outputs": [
    {
     "name": "stdout",
     "output_type": "stream",
     "text": [
      "Valores nulos antes de la limpieza:\n",
      " Brand             0\n",
      "Description       1\n",
      "Price             0\n",
      "Size              1\n",
      "Volume            1\n",
      "Classification    0\n",
      "PurchasePrice     0\n",
      "VendorNumber      0\n",
      "VendorName        0\n",
      "dtype: int64\n"
     ]
    }
   ],
   "source": [
    "# Identificar la cantidad de valores nulos en cada columna\n",
    "print(\"Valores nulos antes de la limpieza:\\n\", df.isnull().sum())"
   ]
  },
  {
   "cell_type": "markdown",
   "id": "5cf95c67",
   "metadata": {},
   "source": [
    "# Limpieza y manejo de datos nulos (ETL)"
   ]
  },
  {
   "cell_type": "code",
   "execution_count": 7,
   "id": "ac7b9dd4",
   "metadata": {},
   "outputs": [],
   "source": [
    "# Limpiar valores nulos\n",
    "df.fillna({\n",
    "    'Description': 'Unknown',\n",
    "    'Size': 'Unknown',\n",
    "    'Volume': 'Unknown'\n",
    "}, inplace=True)\n"
   ]
  },
  {
   "cell_type": "code",
   "execution_count": 8,
   "id": "1ca484cb",
   "metadata": {},
   "outputs": [
    {
     "name": "stdout",
     "output_type": "stream",
     "text": [
      "Valores nulos después de la limpieza:\n",
      " Brand             0\n",
      "Description       0\n",
      "Price             0\n",
      "Size              0\n",
      "Volume            0\n",
      "Classification    0\n",
      "PurchasePrice     0\n",
      "VendorNumber      0\n",
      "VendorName        0\n",
      "dtype: int64\n"
     ]
    }
   ],
   "source": [
    "# Verificar que no queden valores nulos\n",
    "print(\"Valores nulos después de la limpieza:\\n\", df.isnull().sum())"
   ]
  },
  {
   "cell_type": "code",
   "execution_count": 9,
   "id": "a68519b3",
   "metadata": {},
   "outputs": [],
   "source": [
    "# Creamos un diccionario con los nombres actuales de las columnas a los nuevos nombres\n",
    "column_renames = {\n",
    "    'Brand': 'MarcaID',\n",
    "    'Description': 'Descripcion',\n",
    "    'Price': 'Precio_venta',\n",
    "    'Size': 'Tamaño',\n",
    "    'Volume': 'Volumen',\n",
    "    'Classification': 'Clasificacion',\n",
    "    'PurchasePrice': 'Precio_compra',\n",
    "    'VendorNumber': 'ProveedorID',\n",
    "    'VendorName': 'Nombre_proveedor',\n",
    "    'Pack': 'Pack'\n",
    "}\n",
    "\n",
    "# Renombramos las columnas\n",
    "df.rename(columns=column_renames, inplace=True)"
   ]
  },
  {
   "cell_type": "code",
   "execution_count": 10,
   "id": "4e120070",
   "metadata": {},
   "outputs": [
    {
     "name": "stdout",
     "output_type": "stream",
     "text": [
      "   MarcaID                  Descripcion  Precio_venta Tamaño Volumen  \\\n",
      "0       58  Gekkeikan Black & Gold Sake         12.99  750mL     750   \n",
      "1       62     Herradura Silver Tequila         36.99  750mL     750   \n",
      "2       63   Herradura Reposado Tequila         38.99  750mL     750   \n",
      "3       72         No. 3 London Dry Gin         34.99  750mL     750   \n",
      "4       75    Three Olives Tomato Vodka         14.99  750mL     750   \n",
      "\n",
      "   Clasificacion  Precio_compra  ProveedorID             Nombre_proveedor  \n",
      "0              1           9.28         8320  SHAW ROSS INT L IMP LTD      \n",
      "1              1          28.67         1128  BROWN-FORMAN CORP            \n",
      "2              1          30.46         1128  BROWN-FORMAN CORP            \n",
      "3              1          26.11         9165  ULTRA BEVERAGE COMPANY LLP   \n",
      "4              1          10.94         7245  PROXIMO SPIRITS INC.         \n"
     ]
    }
   ],
   "source": [
    "print(df.head())  # Mostrar las primeras filas del DataFrame para verificar los cambios"
   ]
  },
  {
   "cell_type": "markdown",
   "id": "0cbd6643",
   "metadata": {},
   "source": [
    "## Análisis de Relaciones entre Variables y Visualización de Distribuciones"
   ]
  },
  {
   "cell_type": "code",
   "execution_count": 15,
   "id": "f8e5308e",
   "metadata": {},
   "outputs": [
    {
     "data": {
      "image/png": "[encoded data removed]",
      "text/plain": [
       "<Figure size 640x480 with 1 Axes>"
      ]
     },
     "metadata": {},
     "output_type": "display_data"
    }
   ],
   "source": [
    "# Gráfico de dispersión diferenciando por categorías\n",
    "sns.scatterplot(\n",
    "    data=df,\n",
    "    x='Precio_venta',\n",
    "    y='Precio_compra',\n",
    "    hue='Clasificacion',        # Columna para diferenciar colores\n",
    "    palette='Set2',         # Paleta de colores opcional (Set1, Set2, coolwarm, etc.)\n",
    "    s=70                    # Tamaño de los puntos\n",
    ")\n",
    "\n",
    "plt.title('Relación entre Precio de venta y Precio de compra por Categoría')\n",
    "plt.show()"
   ]
  },
  {
   "cell_type": "code",
   "execution_count": 16,
   "id": "cb764b8a",
   "metadata": {},
   "outputs": [
    {
     "data": {
      "image/png": "[encoded data removed]",
      "text/plain": [
       "<Figure size 800x400 with 1 Axes>"
      ]
     },
     "metadata": {},
     "output_type": "display_data"
    }
   ],
   "source": [
    "# Distribución de la columna 'Price'\n",
    "plt.figure(figsize=(8, 4))\n",
    "sns.histplot(df['Precio_venta'], kde=True)\n",
    "plt.title('Distribución de los Precios')\n",
    "plt.show()"
   ]
  },
  {
   "cell_type": "markdown",
   "id": "a7a6ec65",
   "metadata": {},
   "source": [
    "## Guardar el dataset limpio"
   ]
  },
  {
   "cell_type": "code",
   "execution_count": 17,
   "id": "9f0c3d11",
   "metadata": {},
   "outputs": [],
   "source": [
    "# Guardar el DataFrame transformado\n",
    "df.to_csv(r'C:\\Users\\User\\OneDrive - Institucion Universitaria Colegio Mayor de Antioquia\\Escritorio\\Proyecto_Final_Henry\\PF-Inventory\\EDA\\purchasePricesDec_new.csv', index=False)\n",
    "          "
   ]
  },
  {
   "cell_type": "code",
   "execution_count": 18,
   "id": "53a3cc3b",
   "metadata": {},
   "outputs": [],
   "source": [
    "#carga archivo csv\n",
    "df1 = pd.read_csv(r'C:\\Users\\User\\OneDrive - Institucion Universitaria Colegio Mayor de Antioquia\\Escritorio\\Proyecto_Final_Henry\\PF-Inventory\\EDA\\purchasePricesDec_new.csv')"
   ]
  },
  {
   "cell_type": "code",
   "execution_count": 19,
   "id": "29b10c5a",
   "metadata": {},
   "outputs": [
    {
     "name": "stdout",
     "output_type": "stream",
     "text": [
      "<class 'pandas.core.frame.DataFrame'>\n",
      "RangeIndex: 12261 entries, 0 to 12260\n",
      "Data columns (total 9 columns):\n",
      " #   Column            Non-Null Count  Dtype  \n",
      "---  ------            --------------  -----  \n",
      " 0   MarcaID           12261 non-null  int64  \n",
      " 1   Descripcion       12261 non-null  object \n",
      " 2   Precio_venta      12261 non-null  float64\n",
      " 3   Tamaño            12261 non-null  object \n",
      " 4   Volumen           12261 non-null  object \n",
      " 5   Clasificacion     12261 non-null  int64  \n",
      " 6   Precio_compra     12261 non-null  float64\n",
      " 7   ProveedorID       12261 non-null  int64  \n",
      " 8   Nombre_proveedor  12261 non-null  object \n",
      "dtypes: float64(2), int64(3), object(4)\n",
      "memory usage: 862.2+ KB\n",
      "None\n"
     ]
    }
   ],
   "source": [
    "print(df1.info())"
   ]
  },
  {
   "cell_type": "markdown",
   "id": "4716f5c3",
   "metadata": {},
   "source": [
    "# EDA Archivo BegInvFINAL21312016"
   ]
  },
  {
   "cell_type": "markdown",
   "id": "3070a848",
   "metadata": {},
   "source": [
    "### Se procede a leer el acrchivo "
   ]
  },
  {
   "cell_type": "code",
   "execution_count": 21,
   "id": "8cbda373",
   "metadata": {},
   "outputs": [],
   "source": [
    "df_BegInvFINAL = pd.read_csv(r\"C:\\Users\\User\\OneDrive - Institucion Universitaria Colegio Mayor de Antioquia\\Escritorio\\Proyecto_Final_Henry\\PF-Inventory\\Data\\BegInvFINAL12312016.csv\")"
   ]
  },
  {
   "cell_type": "code",
   "execution_count": 22,
   "id": "3ec5241c",
   "metadata": {},
   "outputs": [
    {
     "data": {
      "text/html": [
       "<div>\n",
       "<style scoped>\n",
       "    .dataframe tbody tr th:only-of-type {\n",
       "        vertical-align: middle;\n",
       "    }\n",
       "\n",
       "    .dataframe tbody tr th {\n",
       "        vertical-align: top;\n",
       "    }\n",
       "\n",
       "    .dataframe thead th {\n",
       "        text-align: right;\n",
       "    }\n",
       "</style>\n",
       "<table border=\"1\" class=\"dataframe\">\n",
       "  <thead>\n",
       "    <tr style=\"text-align: right;\">\n",
       "      <th></th>\n",
       "      <th>InventoryId</th>\n",
       "      <th>Store</th>\n",
       "      <th>City</th>\n",
       "      <th>Brand</th>\n",
       "      <th>Description</th>\n",
       "      <th>Size</th>\n",
       "      <th>onHand</th>\n",
       "      <th>Price</th>\n",
       "      <th>startDate</th>\n",
       "    </tr>\n",
       "  </thead>\n",
       "  <tbody>\n",
       "    <tr>\n",
       "      <th>0</th>\n",
       "      <td>1_HARDERSFIELD_58</td>\n",
       "      <td>1</td>\n",
       "      <td>HARDERSFIELD</td>\n",
       "      <td>58</td>\n",
       "      <td>Gekkeikan Black &amp; Gold Sake</td>\n",
       "      <td>750mL</td>\n",
       "      <td>8</td>\n",
       "      <td>12.99</td>\n",
       "      <td>2016-01-01</td>\n",
       "    </tr>\n",
       "    <tr>\n",
       "      <th>1</th>\n",
       "      <td>1_HARDERSFIELD_60</td>\n",
       "      <td>1</td>\n",
       "      <td>HARDERSFIELD</td>\n",
       "      <td>60</td>\n",
       "      <td>Canadian Club 1858 VAP</td>\n",
       "      <td>750mL</td>\n",
       "      <td>7</td>\n",
       "      <td>10.99</td>\n",
       "      <td>2016-01-01</td>\n",
       "    </tr>\n",
       "    <tr>\n",
       "      <th>2</th>\n",
       "      <td>1_HARDERSFIELD_62</td>\n",
       "      <td>1</td>\n",
       "      <td>HARDERSFIELD</td>\n",
       "      <td>62</td>\n",
       "      <td>Herradura Silver Tequila</td>\n",
       "      <td>750mL</td>\n",
       "      <td>6</td>\n",
       "      <td>36.99</td>\n",
       "      <td>2016-01-01</td>\n",
       "    </tr>\n",
       "    <tr>\n",
       "      <th>3</th>\n",
       "      <td>1_HARDERSFIELD_63</td>\n",
       "      <td>1</td>\n",
       "      <td>HARDERSFIELD</td>\n",
       "      <td>63</td>\n",
       "      <td>Herradura Reposado Tequila</td>\n",
       "      <td>750mL</td>\n",
       "      <td>3</td>\n",
       "      <td>38.99</td>\n",
       "      <td>2016-01-01</td>\n",
       "    </tr>\n",
       "    <tr>\n",
       "      <th>4</th>\n",
       "      <td>1_HARDERSFIELD_72</td>\n",
       "      <td>1</td>\n",
       "      <td>HARDERSFIELD</td>\n",
       "      <td>72</td>\n",
       "      <td>No. 3 London Dry Gin</td>\n",
       "      <td>750mL</td>\n",
       "      <td>6</td>\n",
       "      <td>34.99</td>\n",
       "      <td>2016-01-01</td>\n",
       "    </tr>\n",
       "  </tbody>\n",
       "</table>\n",
       "</div>"
      ],
      "text/plain": [
       "         InventoryId  Store          City  Brand                  Description  \\\n",
       "0  1_HARDERSFIELD_58      1  HARDERSFIELD     58  Gekkeikan Black & Gold Sake   \n",
       "1  1_HARDERSFIELD_60      1  HARDERSFIELD     60       Canadian Club 1858 VAP   \n",
       "2  1_HARDERSFIELD_62      1  HARDERSFIELD     62     Herradura Silver Tequila   \n",
       "3  1_HARDERSFIELD_63      1  HARDERSFIELD     63   Herradura Reposado Tequila   \n",
       "4  1_HARDERSFIELD_72      1  HARDERSFIELD     72         No. 3 London Dry Gin   \n",
       "\n",
       "    Size  onHand  Price   startDate  \n",
       "0  750mL       8  12.99  2016-01-01  \n",
       "1  750mL       7  10.99  2016-01-01  \n",
       "2  750mL       6  36.99  2016-01-01  \n",
       "3  750mL       3  38.99  2016-01-01  \n",
       "4  750mL       6  34.99  2016-01-01  "
      ]
     },
     "execution_count": 22,
     "metadata": {},
     "output_type": "execute_result"
    }
   ],
   "source": [
    "df_BegInvFINAL.head()"
   ]
  },
  {
   "cell_type": "markdown",
   "id": "95cf0786",
   "metadata": {},
   "source": [
    "### Se exploran los datos del Frame"
   ]
  },
  {
   "cell_type": "code",
   "execution_count": 23,
   "id": "b92307bd",
   "metadata": {},
   "outputs": [
    {
     "name": "stdout",
     "output_type": "stream",
     "text": [
      "Registros: 206529\n",
      "Columnas: 9\n"
     ]
    }
   ],
   "source": [
    "# Verificar la cantidad de registros y columnas\n",
    "print(f\"Registros: {df_BegInvFINAL.shape[0]}\")\n",
    "print(f\"Columnas: {df_BegInvFINAL.shape[1]}\")"
   ]
  },
  {
   "cell_type": "code",
   "execution_count": 24,
   "id": "89ec4948",
   "metadata": {},
   "outputs": [
    {
     "name": "stdout",
     "output_type": "stream",
     "text": [
      "<class 'pandas.core.frame.DataFrame'>\n",
      "RangeIndex: 206529 entries, 0 to 206528\n",
      "Data columns (total 9 columns):\n",
      " #   Column       Non-Null Count   Dtype  \n",
      "---  ------       --------------   -----  \n",
      " 0   InventoryId  206529 non-null  object \n",
      " 1   Store        206529 non-null  int64  \n",
      " 2   City         206529 non-null  object \n",
      " 3   Brand        206529 non-null  int64  \n",
      " 4   Description  206529 non-null  object \n",
      " 5   Size         206529 non-null  object \n",
      " 6   onHand       206529 non-null  int64  \n",
      " 7   Price        206529 non-null  float64\n",
      " 8   startDate    206529 non-null  object \n",
      "dtypes: float64(1), int64(3), object(5)\n",
      "memory usage: 14.2+ MB\n"
     ]
    }
   ],
   "source": [
    "df_BegInvFINAL.info()"
   ]
  },
  {
   "cell_type": "code",
   "execution_count": 25,
   "id": "65f41a88",
   "metadata": {},
   "outputs": [
    {
     "data": {
      "text/plain": [
       "Series([], dtype: int64)"
      ]
     },
     "execution_count": 25,
     "metadata": {},
     "output_type": "execute_result"
    }
   ],
   "source": [
    "# Vemos que columnas tienen nulos\n",
    "df_BegInvFINAL.isnull().sum()[df_BegInvFINAL.isnull().sum()>0]"
   ]
  },
  {
   "cell_type": "code",
   "execution_count": 26,
   "id": "d4f1da1f",
   "metadata": {},
   "outputs": [
    {
     "data": {
      "text/plain": [
       "InventoryId    0\n",
       "Store          0\n",
       "City           0\n",
       "Brand          0\n",
       "Description    0\n",
       "Size           0\n",
       "onHand         0\n",
       "Price          0\n",
       "startDate      0\n",
       "dtype: int64"
      ]
     },
     "execution_count": 26,
     "metadata": {},
     "output_type": "execute_result"
    }
   ],
   "source": [
    "#Confirmamos los nulos de cada columna\n",
    "df_BegInvFINAL.isnull().sum()"
   ]
  },
  {
   "cell_type": "markdown",
   "id": "b8495352",
   "metadata": {},
   "source": [
    "## Se observa que df_BegInvFINAL no tiene valores nulos"
   ]
  },
  {
   "cell_type": "code",
   "execution_count": 27,
   "id": "b686f4f0",
   "metadata": {},
   "outputs": [
    {
     "name": "stdout",
     "output_type": "stream",
     "text": [
      "InventoryId\n",
      "count                206529\n",
      "unique               206529\n",
      "top       1_HARDERSFIELD_58\n",
      "freq                      1\n",
      "Name: InventoryId, dtype: object\n",
      "--------------------------------\n",
      "Store\n",
      "count    206529.000000\n",
      "mean         42.122457\n",
      "std          23.191393\n",
      "min           1.000000\n",
      "25%          22.000000\n",
      "50%          42.000000\n",
      "75%          64.000000\n",
      "max          79.000000\n",
      "Name: Store, dtype: float64\n",
      "--------------------------------\n",
      "City\n",
      "count        206529\n",
      "unique           67\n",
      "top       MOUNTMEND\n",
      "freq          14264\n",
      "Name: City, dtype: object\n",
      "--------------------------------\n",
      "Brand\n",
      "count    206529.000000\n",
      "mean      13761.482320\n",
      "std       13059.429355\n",
      "min          58.000000\n",
      "25%        3746.000000\n",
      "50%        8010.000000\n",
      "75%       22143.000000\n",
      "max       90090.000000\n",
      "Name: Brand, dtype: float64\n",
      "--------------------------------\n",
      "Description\n",
      "count                   206529\n",
      "unique                    7291\n",
      "top       Jagermeister Liqueur\n",
      "freq                       459\n",
      "Name: Description, dtype: object\n",
      "--------------------------------\n",
      "Size\n",
      "count     206529\n",
      "unique        41\n",
      "top        750mL\n",
      "freq      144514\n",
      "Name: Size, dtype: object\n",
      "--------------------------------\n",
      "onHand\n",
      "count    206529.000000\n",
      "mean         20.429455\n",
      "std          31.467342\n",
      "min           0.000000\n",
      "25%           7.000000\n",
      "50%          12.000000\n",
      "75%          21.000000\n",
      "max        1251.000000\n",
      "Name: onHand, dtype: float64\n",
      "--------------------------------\n",
      "Price\n",
      "count    206529.000000\n",
      "mean         22.253910\n",
      "std          70.178964\n",
      "min           0.000000\n",
      "25%           9.990000\n",
      "50%          14.990000\n",
      "75%          21.990000\n",
      "max       13999.900000\n",
      "Name: Price, dtype: float64\n",
      "--------------------------------\n",
      "startDate\n",
      "count         206529\n",
      "unique             1\n",
      "top       2016-01-01\n",
      "freq          206529\n",
      "Name: startDate, dtype: object\n",
      "--------------------------------\n"
     ]
    }
   ],
   "source": [
    "# Ver información de las columnas\n",
    "for columna in df_BegInvFINAL.columns:\n",
    "    print(columna)\n",
    "    print(df_BegInvFINAL[columna].describe())\n",
    "    print('--------------------------------')"
   ]
  },
  {
   "cell_type": "code",
   "execution_count": 28,
   "id": "e0123695",
   "metadata": {},
   "outputs": [
    {
     "data": {
      "text/plain": [
       "count         206529\n",
       "unique             1\n",
       "top       2016-01-01\n",
       "freq          206529\n",
       "Name: startDate, dtype: object"
      ]
     },
     "execution_count": 28,
     "metadata": {},
     "output_type": "execute_result"
    }
   ],
   "source": [
    "df_BegInvFINAL['startDate'].describe()"
   ]
  },
  {
   "cell_type": "markdown",
   "id": "7c0856fa",
   "metadata": {},
   "source": [
    "### Para verificar la columna \"startDate\""
   ]
  },
  {
   "cell_type": "code",
   "execution_count": 29,
   "id": "dc9f6910",
   "metadata": {},
   "outputs": [],
   "source": [
    "# Damos formato fecha a la columna \"startDate\" pero sin volvela indice.\n",
    "df_BegInvFINAL['startDate'] = pd.to_datetime(df_BegInvFINAL['startDate'])"
   ]
  },
  {
   "cell_type": "code",
   "execution_count": 36,
   "id": "db211521",
   "metadata": {},
   "outputs": [
    {
     "name": "stdout",
     "output_type": "stream",
     "text": [
      "<class 'pandas.core.frame.DataFrame'>\n",
      "RangeIndex: 206529 entries, 0 to 206528\n",
      "Data columns (total 9 columns):\n",
      " #   Column       Non-Null Count   Dtype         \n",
      "---  ------       --------------   -----         \n",
      " 0   InventoryId  206529 non-null  object        \n",
      " 1   Store        206529 non-null  int64         \n",
      " 2   City         206529 non-null  object        \n",
      " 3   Brand        206529 non-null  int64         \n",
      " 4   Description  206529 non-null  object        \n",
      " 5   Size         206529 non-null  object        \n",
      " 6   onHand       206529 non-null  int64         \n",
      " 7   Price        206529 non-null  float64       \n",
      " 8   startDate    206529 non-null  datetime64[ns]\n",
      "dtypes: datetime64[ns](1), float64(1), int64(3), object(4)\n",
      "memory usage: 14.2+ MB\n"
     ]
    }
   ],
   "source": [
    "df_BegInvFINAL.info()"
   ]
  },
  {
   "cell_type": "code",
   "execution_count": 30,
   "id": "dc7876ca",
   "metadata": {},
   "outputs": [
    {
     "data": {
      "text/plain": [
       "count                 206529\n",
       "mean     2016-01-01 00:00:00\n",
       "min      2016-01-01 00:00:00\n",
       "25%      2016-01-01 00:00:00\n",
       "50%      2016-01-01 00:00:00\n",
       "75%      2016-01-01 00:00:00\n",
       "max      2016-01-01 00:00:00\n",
       "Name: startDate, dtype: object"
      ]
     },
     "execution_count": 30,
     "metadata": {},
     "output_type": "execute_result"
    }
   ],
   "source": [
    "df_BegInvFINAL['startDate'].describe()"
   ]
  },
  {
   "cell_type": "markdown",
   "id": "9bede5c1",
   "metadata": {},
   "source": [
    "## Se procede a guardar el archivo "
   ]
  },
  {
   "cell_type": "code",
   "execution_count": 37,
   "id": "83308e61",
   "metadata": {},
   "outputs": [],
   "source": [
    "df.to_csv(r'C:\\Users\\User\\OneDrive - Institucion Universitaria Colegio Mayor de Antioquia\\Escritorio\\Proyecto_Final_Henry\\PF-Inventory\\EDA\\BegInvFINAL_new.csv', index=False)"
   ]
  }
 ],
 "metadata": {
  "kernelspec": {
   "display_name": "Python 3",
   "language": "python",
   "name": "python3"
  },
  "language_info": {
   "codemirror_mode": {
    "name": "ipython",
    "version": 3
   },
   "file_extension": ".py",
   "mimetype": "text/x-python",
   "name": "python",
   "nbconvert_exporter": "python",
   "pygments_lexer": "ipython3",
   "version": "3.13.2"
  }
 },
 "nbformat": 4,
 "nbformat_minor": 5
}
