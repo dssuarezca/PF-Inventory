{
 "cells": [
  {
   "cell_type": "code",
   "execution_count": 3,
   "id": "8d309aa9",
   "metadata": {},
   "outputs": [
    {
     "name": "stdout",
     "output_type": "stream",
     "text": [
      "✅ Conexión exitosa al bucket: proyecto_inventario_bucket\n",
      "📂 Archivos encontrados en el bucket:\n",
      "- PurchasesFINAL12312016.csv\n",
      "- SalesFINAL12312016.csv\n"
     ]
    }
   ],
   "source": [
    "from google.cloud import storage\n",
    "\n",
    "# Configuración\n",
    "PROJECT_ID = \"inventarioproject-471611\"\n",
    "BUCKET_NAME = \"proyecto_inventario_bucket\"\n",
    "\n",
    "# Conectar a Google Cloud Storage\n",
    "client_storage = storage.Client(project=PROJECT_ID)\n",
    "\n",
    "try:\n",
    "    bucket = client_storage.bucket(BUCKET_NAME)\n",
    "    print(f\"✅ Conexión exitosa al bucket: {BUCKET_NAME}\")\n",
    "\n",
    "    # Listar archivos\n",
    "    blobs = list(bucket.list_blobs())\n",
    "    if not blobs:\n",
    "        print(\"⚠️ El bucket está vacío.\")\n",
    "    else:\n",
    "        print(\"📂 Archivos encontrados en el bucket:\")\n",
    "        for blob in blobs:\n",
    "            print(\"-\", blob.name)\n",
    "except Exception as e:\n",
    "    print(\"❌ Error al conectar o listar archivos:\")\n",
    "    print(e)\n"
   ]
  },
  {
   "cell_type": "code",
   "execution_count": 1,
   "id": "84532e44",
   "metadata": {},
   "outputs": [],
   "source": [
    "import os\n",
    "os.environ[\"GOOGLE_APPLICATION_CREDENTIALS\"] = r\"C:\\Users\\Usuario\\AppData\\Roaming\\gcloud\\application_default_credentials.json\""
   ]
  },
  {
   "cell_type": "code",
   "execution_count": 2,
   "id": "9ec8163a",
   "metadata": {},
   "outputs": [
    {
     "name": "stdout",
     "output_type": "stream",
     "text": [
      "c:\\Users\\Usuario\\OneDrive\\Escritorio\\InventarioProject\\PF-Inventory\\venv_inventario\\Scripts\\python.exe\n"
     ]
    }
   ],
   "source": [
    "import sys\n",
    "print(sys.executable)\n",
    "\n"
   ]
  },
  {
   "cell_type": "code",
   "execution_count": 1,
   "id": "2b3b0684",
   "metadata": {},
   "outputs": [
    {
     "ename": "ModuleNotFoundError",
     "evalue": "No module named 'google'",
     "output_type": "error",
     "traceback": [
      "\u001b[31m---------------------------------------------------------------------------\u001b[39m",
      "\u001b[31mModuleNotFoundError\u001b[39m                       Traceback (most recent call last)",
      "\u001b[36mCell\u001b[39m\u001b[36m \u001b[39m\u001b[32mIn[1]\u001b[39m\u001b[32m, line 6\u001b[39m\n\u001b[32m      1\u001b[39m \u001b[38;5;66;03m# ==========================================\u001b[39;00m\n\u001b[32m      2\u001b[39m \u001b[38;5;66;03m# ETL seguro: Verificar bucket, descargar y limpiar CSV\u001b[39;00m\n\u001b[32m      3\u001b[39m \u001b[38;5;66;03m# ==========================================\u001b[39;00m\n\u001b[32m      5\u001b[39m \u001b[38;5;28;01mimport\u001b[39;00m\u001b[38;5;250m \u001b[39m\u001b[34;01mos\u001b[39;00m\n\u001b[32m----> \u001b[39m\u001b[32m6\u001b[39m \u001b[38;5;28;01mfrom\u001b[39;00m\u001b[38;5;250m \u001b[39m\u001b[34;01mgoogle\u001b[39;00m\u001b[34;01m.\u001b[39;00m\u001b[34;01mcloud\u001b[39;00m\u001b[38;5;250m \u001b[39m\u001b[38;5;28;01mimport\u001b[39;00m storage\n\u001b[32m      7\u001b[39m \u001b[38;5;28;01mimport\u001b[39;00m\u001b[38;5;250m \u001b[39m\u001b[34;01mpandas\u001b[39;00m\u001b[38;5;250m \u001b[39m\u001b[38;5;28;01mas\u001b[39;00m\u001b[38;5;250m \u001b[39m\u001b[34;01mpd\u001b[39;00m\n\u001b[32m      9\u001b[39m \u001b[38;5;66;03m# ---- Configuración ----\u001b[39;00m\n",
      "\u001b[31mModuleNotFoundError\u001b[39m: No module named 'google'"
     ]
    }
   ],
   "source": [
    "# ==========================================\n",
    "# ETL seguro: Verificar bucket, descargar y limpiar CSV\n",
    "# ==========================================\n",
    "\n",
    "import os\n",
    "from google.cloud import storage\n",
    "import pandas as pd\n",
    "\n",
    "# ---- Configuración ----\n",
    "PROJECT_ID = \"inventarioproject-471611\"           # Tu proyecto de GCP\n",
    "BUCKET_NAME = \"proyecto_inventario_bucket\"       # Tu bucket\n",
    "CSV_FILE_NAME = \"PurchasesFINAL12312016.csv\"     # Archivo que querés procesar\n",
    "LOCAL_FILE = \"PurchasesFINAL12312016.csv\"        # Nombre temporal local\n",
    "\n",
    "# ---- Configurar credenciales ----\n",
    "os.environ[\"GOOGLE_APPLICATION_CREDENTIALS\"] = r\"C:\\Users\\Usuario\\AppData\\Roaming\\gcloud\\application_default_credentials.json\"\n",
    "\n",
    "# ---- Conectar con GCS ----\n",
    "try:\n",
    "    client_storage = storage.Client(project=PROJECT_ID)\n",
    "    bucket = client_storage.get_bucket(BUCKET_NAME)\n",
    "    print(f\"✅ Conexión exitosa al bucket: {BUCKET_NAME}\")\n",
    "except Exception as e:\n",
    "    print(\"❌ No se pudo conectar al bucket. Error:\")\n",
    "    print(e)\n",
    "\n",
    "# ---- Listar archivos del bucket ----\n",
    "try:\n",
    "    blobs = list(bucket.list_blobs())\n",
    "    if len(blobs) == 0:\n",
    "        print(\"⚠️ El bucket está vacío\")\n",
    "    else:\n",
    "        print(\"Archivos encontrados en el bucket:\")\n",
    "        for b in blobs:\n",
    "            print(\"-\", b.name)\n",
    "except Exception as e:\n",
    "    print(\"❌ No se pudieron listar los archivos. Error:\")\n",
    "    print(e)\n",
    "\n",
    "# ---- Descargar CSV solo si existe ----\n",
    "if CSV_FILE_NAME in [b.name for b in blobs]:\n",
    "    print(f\"📥 Descargando archivo: {CSV_FILE_NAME}...\")\n",
    "    blob = bucket.blob(CSV_FILE_NAME)\n",
    "    blob.download_to_filename(LOCAL_FILE)\n",
    "    print(\"✅ Descarga completada\")\n",
    "else:\n",
    "    print(f\"❌ No se encontró el archivo {CSV_FILE_NAME} en el bucket\")\n",
    "\n",
    "# ---- Leer y limpiar CSV ----\n",
    "try:\n",
    "    df = pd.read_csv(LOCAL_FILE)\n",
    "    print(f\"✅ CSV cargado. Filas: {df.shape[0]}, Columnas: {df.shape[1]}\")\n",
    "    \n",
    "    # Limpieza básica\n",
    "    df.columns = df.columns.str.lower().str.strip()  # Normalizar nombres\n",
    "    df.drop_duplicates(inplace=True)\n",
    "    \n",
    "    # Convertir fechas si existe columna 'fecha'\n",
    "    if 'fecha' in df.columns:\n",
    "        df['fecha'] = pd.to_datetime(df['fecha'], errors='coerce')\n",
    "    \n",
    "    # Rellenar nulos en columnas numéricas\n",
    "    for col in df.select_dtypes(include=['number']):\n",
    "        df[col].fillna(0, inplace=True)\n",
    "    \n",
    "    print(\"✅ Limpieza básica completada\")\n",
    "except Exception as e:\n",
    "    print(\"❌ Error al leer o limpiar CSV:\")\n",
    "    print(e)\n",
    "\n",
    "# ---- Mostrar primeras filas ----\n",
    "print(\"Primeras 5 filas del DataFrame:\")\n",
    "print(df.head())"
   ]
  }
 ],
 "metadata": {
  "kernelspec": {
   "display_name": "venv_inventario (3.13.3)",
   "language": "python",
   "name": "python3"
  },
  "language_info": {
   "codemirror_mode": {
    "name": "ipython",
    "version": 3
   },
   "file_extension": ".py",
   "mimetype": "text/x-python",
   "name": "python",
   "nbconvert_exporter": "python",
   "pygments_lexer": "ipython3",
   "version": "3.13.3"
  }
 },
 "nbformat": 4,
 "nbformat_minor": 5
}
