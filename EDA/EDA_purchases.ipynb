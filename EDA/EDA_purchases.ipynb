{
 "cells": [
  {
   "cell_type": "markdown",
   "id": "001cd772",
   "metadata": {},
   "source": [
    "# EDA - Purchases"
   ]
  },
  {
   "cell_type": "markdown",
   "id": "d2b02a35",
   "metadata": {},
   "source": [
    "## Importamos desde Google Cloud"
   ]
  },
  {
   "cell_type": "code",
   "execution_count": 5,
   "id": "8d309aa9",
   "metadata": {},
   "outputs": [
    {
     "name": "stdout",
     "output_type": "stream",
     "text": [
      "✅ Conexión exitosa al bucket: proyecto_inventario_bucket\n",
      "📂 Archivos encontrados en el bucket:\n",
      "- PurchasesFINAL12312016.csv\n",
      "- SalesFINAL12312016.csv\n"
     ]
    }
   ],
   "source": [
    "from google.cloud import storage\n",
    "\n",
    "# Configuración\n",
    "PROJECT_ID = \"inventarioproject-471611\"\n",
    "BUCKET_NAME = \"proyecto_inventario_bucket\"\n",
    "\n",
    "# Conectar a Google Cloud Storage\n",
    "client_storage = storage.Client(project=PROJECT_ID)\n",
    "\n",
    "try:\n",
    "    bucket = client_storage.bucket(BUCKET_NAME)\n",
    "    print(f\"✅ Conexión exitosa al bucket: {BUCKET_NAME}\")\n",
    "\n",
    "    # Listar archivos\n",
    "    blobs = list(bucket.list_blobs())\n",
    "    if not blobs:\n",
    "        print(\"⚠️ El bucket está vacío.\")\n",
    "    else:\n",
    "        print(\"📂 Archivos encontrados en el bucket:\")\n",
    "        for blob in blobs:\n",
    "            print(\"-\", blob.name)\n",
    "except Exception as e:\n",
    "    print(\"❌ Error al conectar o listar archivos:\")\n",
    "    print(e)\n"
   ]
  },
  {
   "cell_type": "code",
   "execution_count": 6,
   "id": "84532e44",
   "metadata": {},
   "outputs": [],
   "source": [
    "import os\n",
    "os.environ[\"GOOGLE_APPLICATION_CREDENTIALS\"] = r\"C:\\Users\\Usuario\\AppData\\Roaming\\gcloud\\application_default_credentials.json\""
   ]
  },
  {
   "cell_type": "code",
   "execution_count": 7,
   "id": "9ec8163a",
   "metadata": {},
   "outputs": [
    {
     "name": "stdout",
     "output_type": "stream",
     "text": [
      "c:\\Users\\Usuario\\OneDrive\\Escritorio\\InventarioProject\\PF-Inventory\\venv_inventario\\Scripts\\python.exe\n"
     ]
    }
   ],
   "source": [
    "import sys\n",
    "print(sys.executable)\n",
    "\n"
   ]
  },
  {
   "cell_type": "code",
   "execution_count": null,
   "id": "2b3b0684",
   "metadata": {},
   "outputs": [
    {
     "name": "stdout",
     "output_type": "stream",
     "text": [
      "✅ Conexión exitosa al bucket: proyecto_inventario_bucket\n",
      "Archivos encontrados en el bucket:\n",
      "- PurchasesFINAL12312016.csv\n",
      "- SalesFINAL12312016.csv\n",
      "📥 Descargando archivo: PurchasesFINAL12312016.csv...\n",
      "✅ Descarga completada\n",
      "✅ CSV cargado. Filas: 2372474, Columnas: 16\n",
      "❌ Error al leer CSV:\n",
      "'fecha'\n",
      "Primeras 5 filas del DataFrame:\n",
      "           InventoryId  Store  Brand                   Description   Size  \\\n",
      "0    69_MOUNTMEND_8412     69   8412     Tequila Ocho Plata Fresno  750mL   \n",
      "1     30_CULCHETH_5255     30   5255  TGI Fridays Ultimte Mudslide  1.75L   \n",
      "2    34_PITMERDEN_5215     34   5215  TGI Fridays Long Island Iced  1.75L   \n",
      "3  1_HARDERSFIELD_5255      1   5255  TGI Fridays Ultimte Mudslide  1.75L   \n",
      "4    76_DONCASTER_2034     76   2034     Glendalough Double Barrel  750mL   \n",
      "\n",
      "   VendorNumber                   VendorName  PONumber      PODate  \\\n",
      "0           105  ALTAMAR BRANDS LLC               8124  2015-12-21   \n",
      "1          4466  AMERICAN VINTAGE BEVERAGE        8137  2015-12-22   \n",
      "2          4466  AMERICAN VINTAGE BEVERAGE        8137  2015-12-22   \n",
      "3          4466  AMERICAN VINTAGE BEVERAGE        8137  2015-12-22   \n",
      "4           388  ATLANTIC IMPORTING COMPANY       8169  2015-12-24   \n",
      "\n",
      "  ReceivingDate InvoiceDate     PayDate  PurchasePrice  Quantity  Dollars  \\\n",
      "0    2016-01-02  2016-01-04  2016-02-16          35.71         6   214.26   \n",
      "1    2016-01-01  2016-01-07  2016-02-21           9.35         4    37.40   \n",
      "2    2016-01-02  2016-01-07  2016-02-21           9.41         5    47.05   \n",
      "3    2016-01-01  2016-01-07  2016-02-21           9.35         6    56.10   \n",
      "4    2016-01-02  2016-01-09  2016-02-16          21.32         5   106.60   \n",
      "\n",
      "   Classification  \n",
      "0               1  \n",
      "1               1  \n",
      "2               1  \n",
      "3               1  \n",
      "4               1  \n"
     ]
    }
   ],
   "source": [
    "# ==========================================\n",
    "# ETL seguro: Verificar bucket, descargar y limpiar CSV\n",
    "# ==========================================\n",
    "\n",
    "import os\n",
    "from google.cloud import storage\n",
    "import pandas as pd\n",
    "\n",
    "# ---- Configuración ----\n",
    "PROJECT_ID = \"inventarioproject-471611\"           # Tu proyecto de GCP\n",
    "BUCKET_NAME = \"proyecto_inventario_bucket\"       # Tu bucket\n",
    "CSV_FILE_NAME = \"PurchasesFINAL12312016.csv\"     # Archivo que querés procesar\n",
    "LOCAL_FILE = \"PurchasesFINAL12312016.csv\"        # Nombre temporal local\n",
    "\n",
    "# ---- Configurar credenciales ----\n",
    "os.environ[\"GOOGLE_APPLICATION_CREDENTIALS\"] = r\"C:\\Users\\Usuario\\AppData\\Roaming\\gcloud\\application_default_credentials.json\"\n",
    "\n",
    "# ---- Conectar con GCS ----\n",
    "try:\n",
    "    client_storage = storage.Client(project=PROJECT_ID)\n",
    "    bucket = client_storage.get_bucket(BUCKET_NAME)\n",
    "    print(f\"✅ Conexión exitosa al bucket: {BUCKET_NAME}\")\n",
    "except Exception as e:\n",
    "    print(\"❌ No se pudo conectar al bucket. Error:\")\n",
    "    print(e)\n",
    "\n",
    "# ---- Listar archivos del bucket ----\n",
    "try:\n",
    "    blobs = list(bucket.list_blobs())\n",
    "    if len(blobs) == 0:\n",
    "        print(\"⚠️ El bucket está vacío\")\n",
    "    else:\n",
    "        print(\"Archivos encontrados en el bucket:\")\n",
    "        for b in blobs:\n",
    "            print(\"-\", b.name)\n",
    "except Exception as e:\n",
    "    print(\"❌ No se pudieron listar los archivos. Error:\")\n",
    "    print(e)\n",
    "\n",
    "# ---- Descargar CSV solo si existe ----\n",
    "if CSV_FILE_NAME in [b.name for b in blobs]:\n",
    "    print(f\"📥 Descargando archivo: {CSV_FILE_NAME}...\")\n",
    "    blob = bucket.blob(CSV_FILE_NAME)\n",
    "    blob.download_to_filename(LOCAL_FILE)\n",
    "    print(\"✅ Descarga completada\")\n",
    "else:\n",
    "    print(f\"❌ No se encontró el archivo {CSV_FILE_NAME} en el bucket\")\n",
    "\n",
    "# ---- Leer y limpiar CSV ----\n",
    "try:\n",
    "    df = pd.read_csv(LOCAL_FILE)\n",
    "    print(f\"✅ CSV cargado. Filas: {df.shape[0]}, Columnas: {df.shape[1]}\")\n",
    "    \n",
    "    # Limpieza básica\n",
    "    #df.columns = df.columns.str.lower().str.strip()  # Normalizar nombres\n",
    "    #df.drop_duplicates(inplace=True)\n",
    "    \n",
    "    # Convertir fechas si existe columna 'fecha'\n",
    "    #if 'fecha' in df.columns:\n",
    "    #df['fecha'] = pd.to_datetime(df['fecha'], errors='coerce')\n",
    "    \n",
    "    # Rellenar nulos en columnas numéricas\n",
    "    #for col in df.select_dtypes(include=['number']):\n",
    "       # df[col].fillna(0, inplace=True)\n",
    "    \n",
    "   # print(\"✅ Limpieza básica completada\")\n",
    "except Exception as e:\n",
    "    print(\"❌ Error al leer CSV:\")\n",
    "    print(e)\n",
    "\n",
    "# ---- Mostrar primeras filas ----\n",
    "print(\"Primeras 5 filas del DataFrame:\")\n",
    "print(df.head())"
   ]
  },
  {
   "cell_type": "markdown",
   "id": "200c7270",
   "metadata": {},
   "source": [
    "## EDA paso 1: Dimensiones y estructura general"
   ]
  },
  {
   "cell_type": "code",
   "execution_count": null,
   "id": "d1de38c9",
   "metadata": {},
   "outputs": [
    {
     "name": "stdout",
     "output_type": "stream",
     "text": [
      "Dimensiones del dataset:\n",
      "Filas: 2372474\n",
      "Columnas: 16\n",
      "----------------------------------------\n",
      "Información general de las columnas:\n",
      "<class 'pandas.core.frame.DataFrame'>\n",
      "RangeIndex: 2372474 entries, 0 to 2372473\n",
      "Data columns (total 16 columns):\n",
      " #   Column          Dtype  \n",
      "---  ------          -----  \n",
      " 0   InventoryId     object \n",
      " 1   Store           int64  \n",
      " 2   Brand           int64  \n",
      " 3   Description     object \n",
      " 4   Size            object \n",
      " 5   VendorNumber    int64  \n",
      " 6   VendorName      object \n",
      " 7   PONumber        int64  \n",
      " 8   PODate          object \n",
      " 9   ReceivingDate   object \n",
      " 10  InvoiceDate     object \n",
      " 11  PayDate         object \n",
      " 12  PurchasePrice   float64\n",
      " 13  Quantity        int64  \n",
      " 14  Dollars         float64\n",
      " 15  Classification  int64  \n",
      "dtypes: float64(2), int64(6), object(8)\n",
      "memory usage: 289.6+ MB\n"
     ]
    }
   ],
   "source": [
    "print(\"Dimensiones del dataset:\")\n",
    "print(f\"Filas: {df.shape[0]}\")\n",
    "print(f\"Columnas: {df.shape[1]}\")\n",
    "print(\"-\" * 40)\n",
    "\n",
    "print(\"Información general de las columnas:\")\n",
    "df.info()"
   ]
  },
  {
   "cell_type": "markdown",
   "id": "455d279a",
   "metadata": {},
   "source": [
    "## EDA Paso 2: Vista preliminar de los datos\n",
    "\n",
    "* Mostrar primeras filas .head( )\n",
    "\n",
    "* Mostrar últimas filas .tail( )\n",
    "\n",
    "* Revisar nombres de columnas df.columns"
   ]
  },
  {
   "cell_type": "code",
   "execution_count": 10,
   "id": "73287422",
   "metadata": {},
   "outputs": [
    {
     "data": {
      "text/html": [
       "<div>\n",
       "<style scoped>\n",
       "    .dataframe tbody tr th:only-of-type {\n",
       "        vertical-align: middle;\n",
       "    }\n",
       "\n",
       "    .dataframe tbody tr th {\n",
       "        vertical-align: top;\n",
       "    }\n",
       "\n",
       "    .dataframe thead th {\n",
       "        text-align: right;\n",
       "    }\n",
       "</style>\n",
       "<table border=\"1\" class=\"dataframe\">\n",
       "  <thead>\n",
       "    <tr style=\"text-align: right;\">\n",
       "      <th></th>\n",
       "      <th>InventoryId</th>\n",
       "      <th>Store</th>\n",
       "      <th>Brand</th>\n",
       "      <th>Description</th>\n",
       "      <th>Size</th>\n",
       "      <th>VendorNumber</th>\n",
       "      <th>VendorName</th>\n",
       "      <th>PONumber</th>\n",
       "      <th>PODate</th>\n",
       "      <th>ReceivingDate</th>\n",
       "      <th>InvoiceDate</th>\n",
       "      <th>PayDate</th>\n",
       "      <th>PurchasePrice</th>\n",
       "      <th>Quantity</th>\n",
       "      <th>Dollars</th>\n",
       "      <th>Classification</th>\n",
       "    </tr>\n",
       "  </thead>\n",
       "  <tbody>\n",
       "    <tr>\n",
       "      <th>0</th>\n",
       "      <td>69_MOUNTMEND_8412</td>\n",
       "      <td>69</td>\n",
       "      <td>8412</td>\n",
       "      <td>Tequila Ocho Plata Fresno</td>\n",
       "      <td>750mL</td>\n",
       "      <td>105</td>\n",
       "      <td>ALTAMAR BRANDS LLC</td>\n",
       "      <td>8124</td>\n",
       "      <td>2015-12-21</td>\n",
       "      <td>2016-01-02</td>\n",
       "      <td>2016-01-04</td>\n",
       "      <td>2016-02-16</td>\n",
       "      <td>35.71</td>\n",
       "      <td>6</td>\n",
       "      <td>214.26</td>\n",
       "      <td>1</td>\n",
       "    </tr>\n",
       "    <tr>\n",
       "      <th>1</th>\n",
       "      <td>30_CULCHETH_5255</td>\n",
       "      <td>30</td>\n",
       "      <td>5255</td>\n",
       "      <td>TGI Fridays Ultimte Mudslide</td>\n",
       "      <td>1.75L</td>\n",
       "      <td>4466</td>\n",
       "      <td>AMERICAN VINTAGE BEVERAGE</td>\n",
       "      <td>8137</td>\n",
       "      <td>2015-12-22</td>\n",
       "      <td>2016-01-01</td>\n",
       "      <td>2016-01-07</td>\n",
       "      <td>2016-02-21</td>\n",
       "      <td>9.35</td>\n",
       "      <td>4</td>\n",
       "      <td>37.40</td>\n",
       "      <td>1</td>\n",
       "    </tr>\n",
       "    <tr>\n",
       "      <th>2</th>\n",
       "      <td>34_PITMERDEN_5215</td>\n",
       "      <td>34</td>\n",
       "      <td>5215</td>\n",
       "      <td>TGI Fridays Long Island Iced</td>\n",
       "      <td>1.75L</td>\n",
       "      <td>4466</td>\n",
       "      <td>AMERICAN VINTAGE BEVERAGE</td>\n",
       "      <td>8137</td>\n",
       "      <td>2015-12-22</td>\n",
       "      <td>2016-01-02</td>\n",
       "      <td>2016-01-07</td>\n",
       "      <td>2016-02-21</td>\n",
       "      <td>9.41</td>\n",
       "      <td>5</td>\n",
       "      <td>47.05</td>\n",
       "      <td>1</td>\n",
       "    </tr>\n",
       "    <tr>\n",
       "      <th>3</th>\n",
       "      <td>1_HARDERSFIELD_5255</td>\n",
       "      <td>1</td>\n",
       "      <td>5255</td>\n",
       "      <td>TGI Fridays Ultimte Mudslide</td>\n",
       "      <td>1.75L</td>\n",
       "      <td>4466</td>\n",
       "      <td>AMERICAN VINTAGE BEVERAGE</td>\n",
       "      <td>8137</td>\n",
       "      <td>2015-12-22</td>\n",
       "      <td>2016-01-01</td>\n",
       "      <td>2016-01-07</td>\n",
       "      <td>2016-02-21</td>\n",
       "      <td>9.35</td>\n",
       "      <td>6</td>\n",
       "      <td>56.10</td>\n",
       "      <td>1</td>\n",
       "    </tr>\n",
       "    <tr>\n",
       "      <th>4</th>\n",
       "      <td>76_DONCASTER_2034</td>\n",
       "      <td>76</td>\n",
       "      <td>2034</td>\n",
       "      <td>Glendalough Double Barrel</td>\n",
       "      <td>750mL</td>\n",
       "      <td>388</td>\n",
       "      <td>ATLANTIC IMPORTING COMPANY</td>\n",
       "      <td>8169</td>\n",
       "      <td>2015-12-24</td>\n",
       "      <td>2016-01-02</td>\n",
       "      <td>2016-01-09</td>\n",
       "      <td>2016-02-16</td>\n",
       "      <td>21.32</td>\n",
       "      <td>5</td>\n",
       "      <td>106.60</td>\n",
       "      <td>1</td>\n",
       "    </tr>\n",
       "  </tbody>\n",
       "</table>\n",
       "</div>"
      ],
      "text/plain": [
       "           InventoryId  Store  Brand                   Description   Size  \\\n",
       "0    69_MOUNTMEND_8412     69   8412     Tequila Ocho Plata Fresno  750mL   \n",
       "1     30_CULCHETH_5255     30   5255  TGI Fridays Ultimte Mudslide  1.75L   \n",
       "2    34_PITMERDEN_5215     34   5215  TGI Fridays Long Island Iced  1.75L   \n",
       "3  1_HARDERSFIELD_5255      1   5255  TGI Fridays Ultimte Mudslide  1.75L   \n",
       "4    76_DONCASTER_2034     76   2034     Glendalough Double Barrel  750mL   \n",
       "\n",
       "   VendorNumber                   VendorName  PONumber      PODate  \\\n",
       "0           105  ALTAMAR BRANDS LLC               8124  2015-12-21   \n",
       "1          4466  AMERICAN VINTAGE BEVERAGE        8137  2015-12-22   \n",
       "2          4466  AMERICAN VINTAGE BEVERAGE        8137  2015-12-22   \n",
       "3          4466  AMERICAN VINTAGE BEVERAGE        8137  2015-12-22   \n",
       "4           388  ATLANTIC IMPORTING COMPANY       8169  2015-12-24   \n",
       "\n",
       "  ReceivingDate InvoiceDate     PayDate  PurchasePrice  Quantity  Dollars  \\\n",
       "0    2016-01-02  2016-01-04  2016-02-16          35.71         6   214.26   \n",
       "1    2016-01-01  2016-01-07  2016-02-21           9.35         4    37.40   \n",
       "2    2016-01-02  2016-01-07  2016-02-21           9.41         5    47.05   \n",
       "3    2016-01-01  2016-01-07  2016-02-21           9.35         6    56.10   \n",
       "4    2016-01-02  2016-01-09  2016-02-16          21.32         5   106.60   \n",
       "\n",
       "   Classification  \n",
       "0               1  \n",
       "1               1  \n",
       "2               1  \n",
       "3               1  \n",
       "4               1  "
      ]
     },
     "execution_count": 10,
     "metadata": {},
     "output_type": "execute_result"
    }
   ],
   "source": [
    "df.head(5)"
   ]
  },
  {
   "cell_type": "code",
   "execution_count": 11,
   "id": "241d3df6",
   "metadata": {},
   "outputs": [
    {
     "data": {
      "text/html": [
       "<div>\n",
       "<style scoped>\n",
       "    .dataframe tbody tr th:only-of-type {\n",
       "        vertical-align: middle;\n",
       "    }\n",
       "\n",
       "    .dataframe tbody tr th {\n",
       "        vertical-align: top;\n",
       "    }\n",
       "\n",
       "    .dataframe thead th {\n",
       "        text-align: right;\n",
       "    }\n",
       "</style>\n",
       "<table border=\"1\" class=\"dataframe\">\n",
       "  <thead>\n",
       "    <tr style=\"text-align: right;\">\n",
       "      <th></th>\n",
       "      <th>InventoryId</th>\n",
       "      <th>Store</th>\n",
       "      <th>Brand</th>\n",
       "      <th>Description</th>\n",
       "      <th>Size</th>\n",
       "      <th>VendorNumber</th>\n",
       "      <th>VendorName</th>\n",
       "      <th>PONumber</th>\n",
       "      <th>PODate</th>\n",
       "      <th>ReceivingDate</th>\n",
       "      <th>InvoiceDate</th>\n",
       "      <th>PayDate</th>\n",
       "      <th>PurchasePrice</th>\n",
       "      <th>Quantity</th>\n",
       "      <th>Dollars</th>\n",
       "      <th>Classification</th>\n",
       "    </tr>\n",
       "  </thead>\n",
       "  <tbody>\n",
       "    <tr>\n",
       "      <th>2372469</th>\n",
       "      <td>49_GARIGILL_22298</td>\n",
       "      <td>49</td>\n",
       "      <td>22298</td>\n",
       "      <td>Zorvino Vyds Sangiovese</td>\n",
       "      <td>750mL</td>\n",
       "      <td>90058</td>\n",
       "      <td>ZORVINO VINEYARDS</td>\n",
       "      <td>13593</td>\n",
       "      <td>2016-12-19</td>\n",
       "      <td>2016-12-28</td>\n",
       "      <td>2017-01-09</td>\n",
       "      <td>2017-02-06</td>\n",
       "      <td>8.06</td>\n",
       "      <td>12</td>\n",
       "      <td>96.72</td>\n",
       "      <td>2</td>\n",
       "    </tr>\n",
       "    <tr>\n",
       "      <th>2372470</th>\n",
       "      <td>1_HARDERSFIELD_19556</td>\n",
       "      <td>1</td>\n",
       "      <td>19556</td>\n",
       "      <td>Zorvino Bacca Z Blackberry</td>\n",
       "      <td>750mL</td>\n",
       "      <td>90058</td>\n",
       "      <td>ZORVINO VINEYARDS</td>\n",
       "      <td>13593</td>\n",
       "      <td>2016-12-19</td>\n",
       "      <td>2016-12-27</td>\n",
       "      <td>2017-01-09</td>\n",
       "      <td>2017-02-06</td>\n",
       "      <td>9.39</td>\n",
       "      <td>12</td>\n",
       "      <td>112.68</td>\n",
       "      <td>2</td>\n",
       "    </tr>\n",
       "    <tr>\n",
       "      <th>2372471</th>\n",
       "      <td>66_EANVERNESS_22297</td>\n",
       "      <td>66</td>\n",
       "      <td>22297</td>\n",
       "      <td>Zorvino Vyds Pearz</td>\n",
       "      <td>750mL</td>\n",
       "      <td>90058</td>\n",
       "      <td>ZORVINO VINEYARDS</td>\n",
       "      <td>13593</td>\n",
       "      <td>2016-12-19</td>\n",
       "      <td>2016-12-26</td>\n",
       "      <td>2017-01-09</td>\n",
       "      <td>2017-02-06</td>\n",
       "      <td>6.75</td>\n",
       "      <td>12</td>\n",
       "      <td>81.00</td>\n",
       "      <td>2</td>\n",
       "    </tr>\n",
       "    <tr>\n",
       "      <th>2372472</th>\n",
       "      <td>69_MOUNTMEND_19557</td>\n",
       "      <td>69</td>\n",
       "      <td>19557</td>\n",
       "      <td>Zorvino Fragole Z Strawberry</td>\n",
       "      <td>750mL</td>\n",
       "      <td>90058</td>\n",
       "      <td>ZORVINO VINEYARDS</td>\n",
       "      <td>13593</td>\n",
       "      <td>2016-12-19</td>\n",
       "      <td>2016-12-26</td>\n",
       "      <td>2017-01-09</td>\n",
       "      <td>2017-02-06</td>\n",
       "      <td>9.39</td>\n",
       "      <td>12</td>\n",
       "      <td>112.68</td>\n",
       "      <td>2</td>\n",
       "    </tr>\n",
       "    <tr>\n",
       "      <th>2372473</th>\n",
       "      <td>55_DRY GULCH_22298</td>\n",
       "      <td>55</td>\n",
       "      <td>22298</td>\n",
       "      <td>Zorvino Vyds Sangiovese</td>\n",
       "      <td>750mL</td>\n",
       "      <td>90058</td>\n",
       "      <td>ZORVINO VINEYARDS</td>\n",
       "      <td>13593</td>\n",
       "      <td>2016-12-19</td>\n",
       "      <td>2016-12-28</td>\n",
       "      <td>2017-01-09</td>\n",
       "      <td>2017-02-06</td>\n",
       "      <td>8.06</td>\n",
       "      <td>12</td>\n",
       "      <td>96.72</td>\n",
       "      <td>2</td>\n",
       "    </tr>\n",
       "  </tbody>\n",
       "</table>\n",
       "</div>"
      ],
      "text/plain": [
       "                  InventoryId  Store  Brand                   Description  \\\n",
       "2372469     49_GARIGILL_22298     49  22298       Zorvino Vyds Sangiovese   \n",
       "2372470  1_HARDERSFIELD_19556      1  19556    Zorvino Bacca Z Blackberry   \n",
       "2372471   66_EANVERNESS_22297     66  22297            Zorvino Vyds Pearz   \n",
       "2372472    69_MOUNTMEND_19557     69  19557  Zorvino Fragole Z Strawberry   \n",
       "2372473    55_DRY GULCH_22298     55  22298       Zorvino Vyds Sangiovese   \n",
       "\n",
       "          Size  VendorNumber                   VendorName  PONumber  \\\n",
       "2372469  750mL         90058  ZORVINO VINEYARDS               13593   \n",
       "2372470  750mL         90058  ZORVINO VINEYARDS               13593   \n",
       "2372471  750mL         90058  ZORVINO VINEYARDS               13593   \n",
       "2372472  750mL         90058  ZORVINO VINEYARDS               13593   \n",
       "2372473  750mL         90058  ZORVINO VINEYARDS               13593   \n",
       "\n",
       "             PODate ReceivingDate InvoiceDate     PayDate  PurchasePrice  \\\n",
       "2372469  2016-12-19    2016-12-28  2017-01-09  2017-02-06           8.06   \n",
       "2372470  2016-12-19    2016-12-27  2017-01-09  2017-02-06           9.39   \n",
       "2372471  2016-12-19    2016-12-26  2017-01-09  2017-02-06           6.75   \n",
       "2372472  2016-12-19    2016-12-26  2017-01-09  2017-02-06           9.39   \n",
       "2372473  2016-12-19    2016-12-28  2017-01-09  2017-02-06           8.06   \n",
       "\n",
       "         Quantity  Dollars  Classification  \n",
       "2372469        12    96.72               2  \n",
       "2372470        12   112.68               2  \n",
       "2372471        12    81.00               2  \n",
       "2372472        12   112.68               2  \n",
       "2372473        12    96.72               2  "
      ]
     },
     "execution_count": 11,
     "metadata": {},
     "output_type": "execute_result"
    }
   ],
   "source": [
    "df.tail()"
   ]
  },
  {
   "cell_type": "code",
   "execution_count": 12,
   "id": "341b5505",
   "metadata": {},
   "outputs": [
    {
     "data": {
      "text/plain": [
       "Index(['InventoryId', 'Store', 'Brand', 'Description', 'Size', 'VendorNumber',\n",
       "       'VendorName', 'PONumber', 'PODate', 'ReceivingDate', 'InvoiceDate',\n",
       "       'PayDate', 'PurchasePrice', 'Quantity', 'Dollars', 'Classification'],\n",
       "      dtype='object')"
      ]
     },
     "execution_count": 12,
     "metadata": {},
     "output_type": "execute_result"
    }
   ],
   "source": [
    "df.columns"
   ]
  },
  {
   "cell_type": "markdown",
   "id": "ebf387a9",
   "metadata": {},
   "source": [
    "## EDA Paso 3: Valores faltantes y duplicados\n",
    "\n",
    "* Contar valores nulos df.isnull().sum()\n",
    "\n",
    "* Revisar filas duplicadas df.duplicated().sum()"
   ]
  },
  {
   "cell_type": "code",
   "execution_count": null,
   "id": "d3d9f866",
   "metadata": {},
   "outputs": [
    {
     "data": {
      "text/plain": [
       "InventoryId       0\n",
       "Store             0\n",
       "Brand             0\n",
       "Description       0\n",
       "Size              3\n",
       "VendorNumber      0\n",
       "VendorName        0\n",
       "PONumber          0\n",
       "PODate            0\n",
       "ReceivingDate     0\n",
       "InvoiceDate       0\n",
       "PayDate           0\n",
       "PurchasePrice     0\n",
       "Quantity          0\n",
       "Dollars           0\n",
       "Classification    0\n",
       "dtype: int64"
      ]
     },
     "execution_count": 13,
     "metadata": {},
     "output_type": "execute_result"
    }
   ],
   "source": [
    "df.isnull().sum()"
   ]
  },
  {
   "cell_type": "code",
   "execution_count": null,
   "id": "228748a8",
   "metadata": {},
   "outputs": [
    {
     "data": {
      "text/plain": [
       "np.int64(0)"
      ]
     },
     "execution_count": 15,
     "metadata": {},
     "output_type": "execute_result"
    }
   ],
   "source": [
    "df.duplicated().sum()"
   ]
  },
  {
   "cell_type": "markdown",
   "id": "ba5b7796",
   "metadata": {},
   "source": [
    "## EDA Paso 4: Estadísticas descriptivas\n",
    "\n",
    "* Resumen numérico (df.describe()  media, std, min, max, percentiles).\n",
    "\n",
    "* Revisar distribuciones de columnas clave."
   ]
  },
  {
   "cell_type": "code",
   "execution_count": null,
   "id": "70c37778",
   "metadata": {},
   "outputs": [
    {
     "data": {
      "text/html": [
       "<div>\n",
       "<style scoped>\n",
       "    .dataframe tbody tr th:only-of-type {\n",
       "        vertical-align: middle;\n",
       "    }\n",
       "\n",
       "    .dataframe tbody tr th {\n",
       "        vertical-align: top;\n",
       "    }\n",
       "\n",
       "    .dataframe thead th {\n",
       "        text-align: right;\n",
       "    }\n",
       "</style>\n",
       "<table border=\"1\" class=\"dataframe\">\n",
       "  <thead>\n",
       "    <tr style=\"text-align: right;\">\n",
       "      <th></th>\n",
       "      <th>Store</th>\n",
       "      <th>Brand</th>\n",
       "      <th>VendorNumber</th>\n",
       "      <th>PONumber</th>\n",
       "      <th>PurchasePrice</th>\n",
       "      <th>Quantity</th>\n",
       "      <th>Dollars</th>\n",
       "      <th>Classification</th>\n",
       "    </tr>\n",
       "  </thead>\n",
       "  <tbody>\n",
       "    <tr>\n",
       "      <th>count</th>\n",
       "      <td>2.372474e+06</td>\n",
       "      <td>2.372474e+06</td>\n",
       "      <td>2.372474e+06</td>\n",
       "      <td>2.372474e+06</td>\n",
       "      <td>2.372474e+06</td>\n",
       "      <td>2.372474e+06</td>\n",
       "      <td>2.372474e+06</td>\n",
       "      <td>2.372474e+06</td>\n",
       "    </tr>\n",
       "    <tr>\n",
       "      <th>mean</th>\n",
       "      <td>4.465133e+01</td>\n",
       "      <td>1.241864e+04</td>\n",
       "      <td>6.886436e+03</td>\n",
       "      <td>1.104094e+04</td>\n",
       "      <td>1.205005e+01</td>\n",
       "      <td>1.415585e+01</td>\n",
       "      <td>1.356815e+02</td>\n",
       "      <td>1.443520e+00</td>\n",
       "    </tr>\n",
       "    <tr>\n",
       "      <th>std</th>\n",
       "      <td>2.351245e+01</td>\n",
       "      <td>1.255728e+04</td>\n",
       "      <td>8.066694e+03</td>\n",
       "      <td>1.565340e+03</td>\n",
       "      <td>1.794510e+01</td>\n",
       "      <td>2.344616e+01</td>\n",
       "      <td>2.816649e+02</td>\n",
       "      <td>4.967999e-01</td>\n",
       "    </tr>\n",
       "    <tr>\n",
       "      <th>min</th>\n",
       "      <td>1.000000e+00</td>\n",
       "      <td>5.800000e+01</td>\n",
       "      <td>2.000000e+00</td>\n",
       "      <td>8.106000e+03</td>\n",
       "      <td>0.000000e+00</td>\n",
       "      <td>1.000000e+00</td>\n",
       "      <td>0.000000e+00</td>\n",
       "      <td>1.000000e+00</td>\n",
       "    </tr>\n",
       "    <tr>\n",
       "      <th>25%</th>\n",
       "      <td>2.500000e+01</td>\n",
       "      <td>3.639000e+03</td>\n",
       "      <td>3.252000e+03</td>\n",
       "      <td>9.761000e+03</td>\n",
       "      <td>6.120000e+00</td>\n",
       "      <td>6.000000e+00</td>\n",
       "      <td>4.926000e+01</td>\n",
       "      <td>1.000000e+00</td>\n",
       "    </tr>\n",
       "    <tr>\n",
       "      <th>50%</th>\n",
       "      <td>4.800000e+01</td>\n",
       "      <td>6.523000e+03</td>\n",
       "      <td>4.425000e+03</td>\n",
       "      <td>1.110300e+04</td>\n",
       "      <td>9.220000e+00</td>\n",
       "      <td>1.000000e+01</td>\n",
       "      <td>8.393000e+01</td>\n",
       "      <td>1.000000e+00</td>\n",
       "    </tr>\n",
       "    <tr>\n",
       "      <th>75%</th>\n",
       "      <td>6.700000e+01</td>\n",
       "      <td>1.887700e+04</td>\n",
       "      <td>9.552000e+03</td>\n",
       "      <td>1.239700e+04</td>\n",
       "      <td>1.449000e+01</td>\n",
       "      <td>1.200000e+01</td>\n",
       "      <td>1.405200e+02</td>\n",
       "      <td>2.000000e+00</td>\n",
       "    </tr>\n",
       "    <tr>\n",
       "      <th>max</th>\n",
       "      <td>8.100000e+01</td>\n",
       "      <td>9.063100e+04</td>\n",
       "      <td>2.013590e+05</td>\n",
       "      <td>1.366100e+04</td>\n",
       "      <td>5.681810e+03</td>\n",
       "      <td>3.816000e+03</td>\n",
       "      <td>5.017570e+04</td>\n",
       "      <td>2.000000e+00</td>\n",
       "    </tr>\n",
       "  </tbody>\n",
       "</table>\n",
       "</div>"
      ],
      "text/plain": [
       "              Store         Brand  VendorNumber      PONumber  PurchasePrice  \\\n",
       "count  2.372474e+06  2.372474e+06  2.372474e+06  2.372474e+06   2.372474e+06   \n",
       "mean   4.465133e+01  1.241864e+04  6.886436e+03  1.104094e+04   1.205005e+01   \n",
       "std    2.351245e+01  1.255728e+04  8.066694e+03  1.565340e+03   1.794510e+01   \n",
       "min    1.000000e+00  5.800000e+01  2.000000e+00  8.106000e+03   0.000000e+00   \n",
       "25%    2.500000e+01  3.639000e+03  3.252000e+03  9.761000e+03   6.120000e+00   \n",
       "50%    4.800000e+01  6.523000e+03  4.425000e+03  1.110300e+04   9.220000e+00   \n",
       "75%    6.700000e+01  1.887700e+04  9.552000e+03  1.239700e+04   1.449000e+01   \n",
       "max    8.100000e+01  9.063100e+04  2.013590e+05  1.366100e+04   5.681810e+03   \n",
       "\n",
       "           Quantity       Dollars  Classification  \n",
       "count  2.372474e+06  2.372474e+06    2.372474e+06  \n",
       "mean   1.415585e+01  1.356815e+02    1.443520e+00  \n",
       "std    2.344616e+01  2.816649e+02    4.967999e-01  \n",
       "min    1.000000e+00  0.000000e+00    1.000000e+00  \n",
       "25%    6.000000e+00  4.926000e+01    1.000000e+00  \n",
       "50%    1.000000e+01  8.393000e+01    1.000000e+00  \n",
       "75%    1.200000e+01  1.405200e+02    2.000000e+00  \n",
       "max    3.816000e+03  5.017570e+04    2.000000e+00  "
      ]
     },
     "execution_count": 16,
     "metadata": {},
     "output_type": "execute_result"
    }
   ],
   "source": [
    "df.describe()"
   ]
  },
  {
   "cell_type": "code",
   "execution_count": null,
   "id": "ba695147",
   "metadata": {},
   "outputs": [
    {
     "data": {
      "text/html": [
       "<div>\n",
       "<style scoped>\n",
       "    .dataframe tbody tr th:only-of-type {\n",
       "        vertical-align: middle;\n",
       "    }\n",
       "\n",
       "    .dataframe tbody tr th {\n",
       "        vertical-align: top;\n",
       "    }\n",
       "\n",
       "    .dataframe thead th {\n",
       "        text-align: right;\n",
       "    }\n",
       "</style>\n",
       "<table border=\"1\" class=\"dataframe\">\n",
       "  <thead>\n",
       "    <tr style=\"text-align: right;\">\n",
       "      <th></th>\n",
       "      <th>PurchasePrice</th>\n",
       "      <th>Quantity</th>\n",
       "      <th>Dollars</th>\n",
       "    </tr>\n",
       "  </thead>\n",
       "  <tbody>\n",
       "    <tr>\n",
       "      <th>count</th>\n",
       "      <td>2.372474e+06</td>\n",
       "      <td>2.372474e+06</td>\n",
       "      <td>2.372474e+06</td>\n",
       "    </tr>\n",
       "    <tr>\n",
       "      <th>mean</th>\n",
       "      <td>1.205005e+01</td>\n",
       "      <td>1.415585e+01</td>\n",
       "      <td>1.356815e+02</td>\n",
       "    </tr>\n",
       "    <tr>\n",
       "      <th>std</th>\n",
       "      <td>1.794510e+01</td>\n",
       "      <td>2.344616e+01</td>\n",
       "      <td>2.816649e+02</td>\n",
       "    </tr>\n",
       "    <tr>\n",
       "      <th>min</th>\n",
       "      <td>0.000000e+00</td>\n",
       "      <td>1.000000e+00</td>\n",
       "      <td>0.000000e+00</td>\n",
       "    </tr>\n",
       "    <tr>\n",
       "      <th>25%</th>\n",
       "      <td>6.120000e+00</td>\n",
       "      <td>6.000000e+00</td>\n",
       "      <td>4.926000e+01</td>\n",
       "    </tr>\n",
       "    <tr>\n",
       "      <th>50%</th>\n",
       "      <td>9.220000e+00</td>\n",
       "      <td>1.000000e+01</td>\n",
       "      <td>8.393000e+01</td>\n",
       "    </tr>\n",
       "    <tr>\n",
       "      <th>75%</th>\n",
       "      <td>1.449000e+01</td>\n",
       "      <td>1.200000e+01</td>\n",
       "      <td>1.405200e+02</td>\n",
       "    </tr>\n",
       "    <tr>\n",
       "      <th>max</th>\n",
       "      <td>5.681810e+03</td>\n",
       "      <td>3.816000e+03</td>\n",
       "      <td>5.017570e+04</td>\n",
       "    </tr>\n",
       "  </tbody>\n",
       "</table>\n",
       "</div>"
      ],
      "text/plain": [
       "       PurchasePrice      Quantity       Dollars\n",
       "count   2.372474e+06  2.372474e+06  2.372474e+06\n",
       "mean    1.205005e+01  1.415585e+01  1.356815e+02\n",
       "std     1.794510e+01  2.344616e+01  2.816649e+02\n",
       "min     0.000000e+00  1.000000e+00  0.000000e+00\n",
       "25%     6.120000e+00  6.000000e+00  4.926000e+01\n",
       "50%     9.220000e+00  1.000000e+01  8.393000e+01\n",
       "75%     1.449000e+01  1.200000e+01  1.405200e+02\n",
       "max     5.681810e+03  3.816000e+03  5.017570e+04"
      ]
     },
     "execution_count": 18,
     "metadata": {},
     "output_type": "execute_result"
    }
   ],
   "source": [
    "# Columnas clave\n",
    "df[['PurchasePrice', 'Quantity', 'Dollars']].describe()\n"
   ]
  },
  {
   "cell_type": "markdown",
   "id": "ff5ec0f1",
   "metadata": {},
   "source": [
    "## EDA Paso 5: Tipos de datos y conversiones necesarias\n",
    "\n",
    "* Confirmar que las fechas estén en datetime.\n",
    "\n",
    "* Confirmar que los números no estén en texto."
   ]
  },
  {
   "cell_type": "code",
   "execution_count": 32,
   "id": "6a42e92f",
   "metadata": {},
   "outputs": [],
   "source": [
    "fecha_cols = ['PODate', 'ReceivingDate', 'InvoiceDate', 'PayDate']\n",
    "for col in fecha_cols:\n",
    "    df[col] = pd.to_datetime(df[col], errors='coerce')\n"
   ]
  },
  {
   "cell_type": "code",
   "execution_count": 38,
   "id": "306ca8ed",
   "metadata": {},
   "outputs": [
    {
     "name": "stdout",
     "output_type": "stream",
     "text": [
      "<class 'pandas.core.frame.DataFrame'>\n",
      "RangeIndex: 2372474 entries, 0 to 2372473\n",
      "Data columns (total 16 columns):\n",
      " #   Column          Dtype         \n",
      "---  ------          -----         \n",
      " 0   inventoryid     object        \n",
      " 1   store           int64         \n",
      " 2   brand           int64         \n",
      " 3   description     object        \n",
      " 4   size            object        \n",
      " 5   vendornumber    int64         \n",
      " 6   vendorname      object        \n",
      " 7   ponumber        int64         \n",
      " 8   podate          datetime64[ns]\n",
      " 9   receivingdate   datetime64[ns]\n",
      " 10  invoicedate     datetime64[ns]\n",
      " 11  paydate         datetime64[ns]\n",
      " 12  purchaseprice   float64       \n",
      " 13  quantity        int64         \n",
      " 14  dollars         float64       \n",
      " 15  classification  int64         \n",
      "dtypes: datetime64[ns](4), float64(2), int64(6), object(4)\n",
      "memory usage: 289.6+ MB\n"
     ]
    }
   ],
   "source": [
    "df.info()"
   ]
  },
  {
   "cell_type": "markdown",
   "id": "b72e3b19",
   "metadata": {},
   "source": [
    "## EDA Paso 6: Outliers y valores inconsistentes\n",
    "\n",
    "* Detección visual de outliers con boxplot.\n",
    "\n",
    "* Buscar valores negativos en columnas que no deberían tenerlos (ej: ventas, precios)."
   ]
  },
  {
   "cell_type": "code",
   "execution_count": null,
   "id": "4d6daec2",
   "metadata": {},
   "outputs": [],
   "source": [
    "import matplotlib.pyplot as plt\n",
    "import seaborn as sns\n",
    "import pandas as pd\n",
    "import numpy as np\n"
   ]
  },
  {
   "cell_type": "code",
   "execution_count": 19,
   "id": "396fd8e8",
   "metadata": {},
   "outputs": [
    {
     "data": {
      "image/png": "[encoded data removed]",
      "text/plain": [
       "<Figure size 800x400 with 1 Axes>"
      ]
     },
     "metadata": {},
     "output_type": "display_data"
    },
    {
     "data": {
      "image/png": "[encoded data removed]",
      "text/plain": [
       "<Figure size 800x400 with 1 Axes>"
      ]
     },
     "metadata": {},
     "output_type": "display_data"
    },
    {
     "data": {
      "image/png": "[encoded data removed]",
      "text/plain": [
       "<Figure size 800x400 with 1 Axes>"
      ]
     },
     "metadata": {},
     "output_type": "display_data"
    }
   ],
   "source": [
    "# lista de columnas numerica a analizar\n",
    "numeric_cols = ['PurchasePrice','Quantity','Dollars']\n",
    "\n",
    "for col in numeric_cols:\n",
    "    plt.figure(figsize = (8 , 4) )\n",
    "    sns.violinplot(x = df [col] )\n",
    "    plt.title(f\"ViolinPlot de {col}\" )\n",
    "    plt.show()"
   ]
  },
  {
   "cell_type": "code",
   "execution_count": 22,
   "id": "1192217e",
   "metadata": {},
   "outputs": [
    {
     "name": "stdout",
     "output_type": "stream",
     "text": [
      "Valores negativos en PurchasePrice: 0 filas\n",
      "Valores negativos en Quantity: 0 filas\n",
      "Valores negativos en Dollars: 0 filas\n"
     ]
    }
   ],
   "source": [
    "# Revisar valores negativos\n",
    "for col in [\"PurchasePrice\", \"Quantity\", \"Dollars\"]:\n",
    "    neg_values = df [df [col] < 0 ]\n",
    "    print (f\"Valores negativos en {col}: {len (neg_values) } filas\")\n"
   ]
  },
  {
   "cell_type": "markdown",
   "id": "95fe4af6",
   "metadata": {},
   "source": [
    "## EDA Paso 7: Relaciones iniciales\n",
    "\n",
    "* Correlación entre variables numéricas (df.corr()).\n",
    "\n",
    "* Tablas de frecuencia para variables categóricas (value_counts())."
   ]
  },
  {
   "cell_type": "code",
   "execution_count": 27,
   "id": "5229d3d0",
   "metadata": {},
   "outputs": [
    {
     "data": {
      "image/png": "[encoded data removed]",
      "text/plain": [
       "<Figure size 1000x600 with 2 Axes>"
      ]
     },
     "metadata": {},
     "output_type": "display_data"
    }
   ],
   "source": [
    "# Calculamos la matriz de correlación (solo numéricas)\n",
    "corr_matrix = df.corr(numeric_only=True)\n",
    "\n",
    "# Crear una máscara para el triángulo superior\n",
    "mask = np.triu(np.ones_like(corr_matrix, dtype=bool))\n",
    "\n",
    "# Ajustar el tamaño del gráfico\n",
    "plt.figure(figsize=(10, 6))\n",
    "\n",
    "# Heatmap\n",
    "sns.heatmap(\n",
    "    corr_matrix,        # matriz\n",
    "    mask=mask,           \n",
    "    annot=True,         # muestra los valores en cada celda\n",
    "    fmt=\".2f\",          # formato de los números\n",
    "    cmap=\"coolwarm\",    # paleta de colores\n",
    "    center=0            # centra el gradiente en 0\n",
    ")\n",
    "\n",
    "plt.title(\"Heatmap de correlación de variables numéricas\", fontsize=14)\n",
    "plt.show()"
   ]
  },
  {
   "cell_type": "code",
   "execution_count": 30,
   "id": "79771d2e",
   "metadata": {},
   "outputs": [
    {
     "name": "stdout",
     "output_type": "stream",
     "text": [
      " Store:\n",
      "Store\n",
      "76    121123\n",
      "73     96794\n",
      "38     93412\n",
      "34     92113\n",
      "66     82699\n",
      "       ...  \n",
      "36      6666\n",
      "46      5777\n",
      "29      5379\n",
      "26      3974\n",
      "3       1806\n",
      "Name: count, Length: 80, dtype: int64\n",
      "\n",
      " Brand:\n",
      "Brand\n",
      "8068     7359\n",
      "3893     7166\n",
      "4261     6774\n",
      "1233     6584\n",
      "3405     6506\n",
      "         ... \n",
      "26617       1\n",
      "26508       1\n",
      "13942       1\n",
      "29554       1\n",
      "38701       1\n",
      "Name: count, Length: 10664, dtype: int64\n",
      "\n",
      " VendorName:\n",
      "VendorName\n",
      "DIAGEO NORTH AMERICA INC       243326\n",
      "JIM BEAM BRANDS COMPANY        189832\n",
      "CONSTELLATION BRANDS INC       185574\n",
      "MARTIGNETTI COMPANIES          176487\n",
      "E & J GALLO WINERY             162567\n",
      "                                ...  \n",
      "CAPSTONE INTERNATIONAL              1\n",
      "TRUETT HURST                        1\n",
      "FLAVOR ESSENCE INC                  1\n",
      "LAUREATE IMPORTS CO                 1\n",
      "AAPER ALCOHOL & CHEMICAL CO         1\n",
      "Name: count, Length: 129, dtype: int64\n",
      "\n",
      " Classification:\n",
      "Classification\n",
      "1    1320234\n",
      "2    1052240\n",
      "Name: count, dtype: int64\n"
     ]
    }
   ],
   "source": [
    "print(\" Store:\")\n",
    "print(df['Store'].value_counts())\n",
    "\n",
    "print(\"\\n Brand:\")\n",
    "print(df['Brand'].value_counts())\n",
    "\n",
    "print(\"\\n VendorName:\")\n",
    "print(df['VendorName'].value_counts())\n",
    "\n",
    "print(\"\\n Classification:\")\n",
    "print(df['Classification'].value_counts())\n",
    "\n"
   ]
  },
  {
   "cell_type": "markdown",
   "id": "593ad175",
   "metadata": {},
   "source": [
    "Podemos observar diferentes cosas:\n",
    "* Store: Tiene 80 tiendas, algunas mucho mas activas que otras.\n",
    "* Brand: 10.664 marcas, algunas con solo un registro.\n",
    "* VendorName: 129 proveedores, los mas grandes concentran gran parte de las compras.\n",
    "* Classification: Solo hay dos categorias."
   ]
  },
  {
   "cell_type": "markdown",
   "id": "9aa8d120",
   "metadata": {},
   "source": [
    "## Manejo de nulos\n",
    "Vamos a dejarlos como Unknown, ya que son solo 3"
   ]
  },
  {
   "cell_type": "code",
   "execution_count": 31,
   "id": "33e51b50",
   "metadata": {},
   "outputs": [],
   "source": [
    "df[\"Size\"] = df[\"Size\"].fillna(\"Unknown\")"
   ]
  },
  {
   "cell_type": "markdown",
   "id": "c0a045ed",
   "metadata": {},
   "source": [
    "## Normalizamos el texto dentro de las columnas que lo contienen\n",
    "Vamos a pasarlo todo a minusculas y quitarles los espacios."
   ]
  },
  {
   "cell_type": "code",
   "execution_count": null,
   "id": "112d236d",
   "metadata": {},
   "outputs": [],
   "source": [
    "df[\"Description\"] = df[\"Description\"].str.strip().str.lower()\n",
    "\n",
    "df[\"VendorName\"] = df[\"VendorName\"].str.strip().str.lower()\n",
    "\n",
    "df[\"Size\"] = df[\"Size\"].str.strip().str.lower()"
   ]
  },
  {
   "cell_type": "code",
   "execution_count": 35,
   "id": "385aced0",
   "metadata": {},
   "outputs": [],
   "source": [
    "df.columns = df.columns.str.strip().str.lower().str.replace(\" \", \"_\")\n"
   ]
  },
  {
   "cell_type": "markdown",
   "id": "3711dc1c",
   "metadata": {},
   "source": [
    "## Validacion de regla de negocio\n",
    "Vamos a corroborar que el precio por unidad multiplicado por la cantidad sea igual al monto que figura en la columna Dollars"
   ]
  },
  {
   "cell_type": "code",
   "execution_count": null,
   "id": "f3525986",
   "metadata": {},
   "outputs": [],
   "source": [
    "#Creamos una columna auxiliar para verificarlo\n",
    "\n",
    "df[\"CalcDollars\"] = df[\"purchaseprice\"] * df[\"quantity\"]"
   ]
  },
  {
   "cell_type": "code",
   "execution_count": null,
   "id": "2144569a",
   "metadata": {},
   "outputs": [
    {
     "name": "stdout",
     "output_type": "stream",
     "text": [
      "Diferencia total en Dollars: 1.3156049138984827e-08\n"
     ]
    }
   ],
   "source": [
    "#Ahora calculamos la diferencia entre la columna calculada y la columna original (Dollars)\n",
    "\n",
    "diff = (df[\"dollars\"] - df[\"CalcDollars\"]).abs().sum()\n",
    "print(\"Diferencia total en Dollars:\", diff)"
   ]
  },
  {
   "cell_type": "markdown",
   "id": "6dda67d4",
   "metadata": {},
   "source": [
    "Podemos observar que la diferencia entre el calculo que hicimos y la tabla ya existente es practicamente nula."
   ]
  },
  {
   "cell_type": "code",
   "execution_count": null,
   "id": "de2fdb6f",
   "metadata": {},
   "outputs": [],
   "source": [
    "# Eliminamos la columna auxiliar\n",
    "df.drop(columns=[\"CalcDollars\"], inplace=True)"
   ]
  },
  {
   "cell_type": "markdown",
   "id": "9d03a1a4",
   "metadata": {},
   "source": [
    "## Exportamos a BigQuery\n"
   ]
  },
  {
   "cell_type": "code",
   "execution_count": null,
   "id": "0310d720",
   "metadata": {},
   "outputs": [],
   "source": []
  }
 ],
 "metadata": {
  "kernelspec": {
   "display_name": "venv_inventario (3.13.3)",
   "language": "python",
   "name": "python3"
  },
  "language_info": {
   "codemirror_mode": {
    "name": "ipython",
    "version": 3
   },
   "file_extension": ".py",
   "mimetype": "text/x-python",
   "name": "python",
   "nbconvert_exporter": "python",
   "pygments_lexer": "ipython3",
   "version": "3.13.3"
  }
 },
 "nbformat": 4,
 "nbformat_minor": 5
}
