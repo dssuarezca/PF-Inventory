{
 "cells": [
  {
   "cell_type": "markdown",
   "id": "067f00d2",
   "metadata": {},
   "source": [
    "## prueba"
   ]
  }
 ],
 "metadata": {
  "language_info": {
   "name": "python"
  }
 },
 "nbformat": 4,
 "nbformat_minor": 5
}
