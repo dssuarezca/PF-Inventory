{
 "cells": [
  {
   "cell_type": "markdown",
   "id": "9ab967dc",
   "metadata": {},
   "source": [
    "# EDA"
   ]
  },
  {
   "cell_type": "code",
   "execution_count": 1,
   "id": "d642a8b6",
   "metadata": {},
   "outputs": [],
   "source": [
    "#en primer instancia importamos las librerias necesarias para poder trabajar con los datos, en este caso utilizamos pandas para poder leer el archivo csv \n",
    "# y poder realizar diferentes operaciones al dataset\n",
    "import pandas as pd\n",
    "import numpy as np"
   ]
  },
  {
   "cell_type": "markdown",
   "id": "890d56c5",
   "metadata": {},
   "source": [
    "##### • Leemos el primer archivo para realizar la respectiva limpieza\n"
   ]
  },
  {
   "cell_type": "code",
   "execution_count": 2,
   "id": "7529c9f8",
   "metadata": {},
   "outputs": [
    {
     "name": "stderr",
     "output_type": "stream",
     "text": [
      "<>:2: SyntaxWarning: invalid escape sequence '\\D'\n",
      "<>:2: SyntaxWarning: invalid escape sequence '\\D'\n",
      "C:\\Users\\dssua\\AppData\\Local\\Temp\\ipykernel_21664\\2441676414.py:2: SyntaxWarning: invalid escape sequence '\\D'\n",
      "  EndInvFINAL12312016 = '..\\Data\\EndInvFINAL12312016.csv'\n"
     ]
    }
   ],
   "source": [
    "#ruta del archivo CSV\n",
    "EndInvFINAL12312016 = '..\\Data\\EndInvFINAL12312016.csv'\n",
    "\n",
    "# Leer el archivo CSV \n",
    "df_EndInvFINAL12312016 = pd.read_csv(EndInvFINAL12312016)\n"
   ]
  },
  {
   "cell_type": "markdown",
   "id": "fa3c59bd",
   "metadata": {},
   "source": [
    "##### • realizamos la respectiva limpieza\n"
   ]
  },
  {
   "cell_type": "code",
   "execution_count": 3,
   "id": "0d079e2f",
   "metadata": {},
   "outputs": [],
   "source": [
    "# Eliminamos filas con al menos un valor vacío\n",
    "df_EndInvFINAL12312016 = df_EndInvFINAL12312016.dropna()"
   ]
  },
  {
   "cell_type": "markdown",
   "id": "3f6fec4f",
   "metadata": {},
   "source": [
    "##### • transformacion de datos\n"
   ]
  },
  {
   "cell_type": "code",
   "execution_count": 6,
   "id": "12fcd57b",
   "metadata": {},
   "outputs": [],
   "source": [
    "#calculamos el precio total por disponibilidad y redondeamos a 2 decimales\n",
    "df_EndInvFINAL12312016[\"Precio Total\"] = df_EndInvFINAL12312016[\"onHand\"] * df_EndInvFINAL12312016[\"Price\"]\n",
    "df_EndInvFINAL12312016[\"Precio Total\"] = df_EndInvFINAL12312016[\"Precio Total\"].round(2)\n",
    "\n"
   ]
  },
  {
   "cell_type": "markdown",
   "id": "f6b7efce",
   "metadata": {},
   "source": [
    "##### • convertimos el tipo de dato correcto de las diferentes columnas\n"
   ]
  },
  {
   "cell_type": "code",
   "execution_count": 11,
   "id": "1735e643",
   "metadata": {},
   "outputs": [],
   "source": [
    "#convertimos la columna 'endDate' a tipo fecha\n",
    "df_EndInvFINAL12312016['endDate'] = pd.to_datetime(df_EndInvFINAL12312016['endDate'])\n",
    "\n",
    "#generamos un arreglo con las columnas que queremos convertir a tipo string\n",
    "columnas_strings = ['InventoryId', 'City', 'Description', 'Size']\n",
    "df_EndInvFINAL12312016[columnas_strings] = df_EndInvFINAL12312016[columnas_strings].astype('string')\n",
    "\n",
    "#generamos un arreglo con las columnas que queremos convertir a tipo entero\n",
    "columnas_enteras = ['Store', 'Brand', 'onHand', 'Price']\n",
    "df_EndInvFINAL12312016[columnas_enteras] = df_EndInvFINAL12312016[columnas_enteras].astype('int64')\n"
   ]
  },
  {
   "cell_type": "code",
   "execution_count": 12,
   "id": "e03bbd91",
   "metadata": {},
   "outputs": [
    {
     "name": "stdout",
     "output_type": "stream",
     "text": [
      "<class 'pandas.core.frame.DataFrame'>\n",
      "Index: 223205 entries, 0 to 224488\n",
      "Data columns (total 10 columns):\n",
      " #   Column        Non-Null Count   Dtype         \n",
      "---  ------        --------------   -----         \n",
      " 0   InventoryId   223205 non-null  string        \n",
      " 1   Store         223205 non-null  int64         \n",
      " 2   City          223205 non-null  string        \n",
      " 3   Brand         223205 non-null  int64         \n",
      " 4   Description   223205 non-null  string        \n",
      " 5   Size          223205 non-null  string        \n",
      " 6   onHand        223205 non-null  int64         \n",
      " 7   Price         223205 non-null  int64         \n",
      " 8   endDate       223205 non-null  datetime64[ns]\n",
      " 9   Precio Total  223205 non-null  float64       \n",
      "dtypes: datetime64[ns](1), float64(1), int64(4), string(4)\n",
      "memory usage: 18.7 MB\n"
     ]
    }
   ],
   "source": [
    "#mostramos la informacion del dataframe para verificar que los cambios se hayan realizado correctamente\n",
    "df_EndInvFINAL12312016.info()"
   ]
  }
 ],
 "metadata": {
  "kernelspec": {
   "display_name": "Python 3",
   "language": "python",
   "name": "python3"
  },
  "language_info": {
   "codemirror_mode": {
    "name": "ipython",
    "version": 3
   },
   "file_extension": ".py",
   "mimetype": "text/x-python",
   "name": "python",
   "nbconvert_exporter": "python",
   "pygments_lexer": "ipython3",
   "version": "3.12.5"
  }
 },
 "nbformat": 4,
 "nbformat_minor": 5
}
